{
 "cells": [
  {
   "cell_type": "markdown",
   "metadata": {},
   "source": [
    "# Zalando example"
   ]
  },
  {
   "cell_type": "markdown",
   "metadata": {},
   "source": [
    "What does this all cover?\n",
    "\n",
    "**General (dense layers)**\n",
    "- Keras\n",
    "- Multilayer perceptron\n",
    "- activation functions\n",
    "- loss function\n",
    "- matrix notation practice\n",
    "- hyperparameter testing (trial and error)\n",
    "- regularization via early stopping (plot validation vs training accuracy)\n",
    "\n",
    "**CNN**\n",
    "- convolutional neural nets\n",
    "- use of all layers: convolution layers, pooling layers, Fully connected layers\n",
    "- sense of the general layer structure\n",
    "- show pictures in python\n",
    "- Visualizing intermediate convnet outputs \n",
    "- regularization via dropout\n",
    "- make a class prediction\n",
    "\n",
    "**Things I have not done (yet)**\n",
    "- k-fold cross-validation (yet wonder about the added value at this stage, makes comp time longer. Or should make the data smaller)\n",
    "- having jpeg images and actually making them manageable to work with (is this done earlier?)\n",
    "- data augmentation --> need de jpegs to do so\n",
    "- vanishing/exploding gradients\n",
    "- L2 regularization\n",
    "---> sequence processing with convolutional neural networks?\n"
   ]
  },
  {
   "cell_type": "markdown",
   "metadata": {},
   "source": [
    "# 1. Introduction"
   ]
  },
  {
   "cell_type": "markdown",
   "metadata": {},
   "source": [
    "In this example we'll get a sense of just how powerful convolutional neural networks get! This data set, the so-called `Fashion-MNIST` was constructed by a research team at online fashion retailer Zalando.  Fashion-MNIST is a dataset of Zalando's article images—consisting of a training set of 60,000 examples and a test set of 10,000 examples. Each example is a 28x28 grayscale image, associated with a label from 10 classes."
   ]
  },
  {
   "cell_type": "code",
   "execution_count": 1,
   "metadata": {},
   "outputs": [
    {
     "name": "stderr",
     "output_type": "stream",
     "text": [
      "/anaconda3/lib/python3.6/site-packages/h5py/__init__.py:36: FutureWarning: Conversion of the second argument of issubdtype from `float` to `np.floating` is deprecated. In future, it will be treated as `np.float64 == np.dtype(float).type`.\n",
      "  from ._conv import register_converters as _register_converters\n"
     ]
    }
   ],
   "source": [
    "import numpy as np\n",
    "import tensorflow as tf\n",
    "from utils import mnist_reader\n",
    "import os\n",
    "import matplotlib.pyplot as plt\n",
    "import matplotlib.image  as img"
   ]
  },
  {
   "cell_type": "code",
   "execution_count": 2,
   "metadata": {},
   "outputs": [],
   "source": [
    "train_images, train_labels = mnist_reader.load_mnist( path = \"data_zalando/\",kind='train')\n",
    "test_images, test_labels = mnist_reader.load_mnist(path = \"data_zalando/\", kind='t10k')"
   ]
  },
  {
   "cell_type": "markdown",
   "metadata": {},
   "source": [
    "This is a fairly big data set. If we keep it as such, runtimes will be longer. Let's take samples of this data set, so we work with 10,000 training instances and 2,500 test instances. Do remember that working with bigger data is generally always better when it comes to training models and getting more accurate results, longer computation times are pretty much the only downside!"
   ]
  },
  {
   "cell_type": "code",
   "execution_count": 3,
   "metadata": {},
   "outputs": [],
   "source": [
    "from random import *\n",
    "import random\n",
    "index_train = range(0,59999)\n",
    "index_test= range(0,9999)\n",
    "\n",
    "random.seed(1109)\n",
    "train_sample = sample(index_train,  10000)\n",
    "test_sample = sample(index_test,  2500)"
   ]
  },
  {
   "cell_type": "code",
   "execution_count": 4,
   "metadata": {},
   "outputs": [],
   "source": [
    "train_images = train_images[train_sample]\n",
    "train_labels = train_labels[train_sample]\n",
    "test_images = test_images[test_sample]\n",
    "test_labels = test_labels[test_sample]"
   ]
  },
  {
   "cell_type": "markdown",
   "metadata": {},
   "source": [
    "Let's verify the shape of the train_images and test_images"
   ]
  },
  {
   "cell_type": "code",
   "execution_count": 5,
   "metadata": {},
   "outputs": [
    {
     "data": {
      "text/plain": [
       "(10000, 784)"
      ]
     },
     "execution_count": 5,
     "metadata": {},
     "output_type": "execute_result"
    }
   ],
   "source": [
    "np.shape(train_images)"
   ]
  },
  {
   "cell_type": "code",
   "execution_count": 6,
   "metadata": {},
   "outputs": [
    {
     "data": {
      "text/plain": [
       "(2500, 784)"
      ]
     },
     "execution_count": 6,
     "metadata": {},
     "output_type": "execute_result"
    }
   ],
   "source": [
    "np.shape(test_images)"
   ]
  },
  {
   "cell_type": "markdown",
   "metadata": {},
   "source": [
    "You can see that now, there are 10,000 observations in the training set, each representing 1 image of 28 x 28 pixels, so each observation contains 784 inputs that range between [0,255] (for a greyscale image, going from white to black). Similarly, there are 2500 images in the test set. Let's have a look at a random observation from `train_images`, let's say, the 4th observation."
   ]
  },
  {
   "cell_type": "code",
   "execution_count": 7,
   "metadata": {},
   "outputs": [
    {
     "data": {
      "text/plain": [
       "array([  0,   0,   0,   0,   2,   1,   0,   1,   1,   1,   0, 146, 173,\n",
       "       138, 141, 146, 173,   0,   0,   3,   1,   1,   1,   0,   0,   0,\n",
       "         0,   0,   0,   0,   0,   0,   1,   3,   3,   0,   0,   0,  50,\n",
       "       231, 244, 248, 249, 249, 232, 148,   0,   0,   0,   0,   3,   1,\n",
       "         0,   0,   0,   0,   0,   0,   0,   0,   2,   0,   0,  12,  97,\n",
       "       173, 213, 190, 228, 255, 245, 245, 186, 202, 176, 103,  39,   0,\n",
       "         0,   2,   0,   0,   0,   0,   0,   0,   0,   0,   0,  13, 177,\n",
       "       191, 203, 199, 197, 181, 186, 219, 225, 203, 169, 191, 198, 207,\n",
       "       196, 203,  65,   0,   0,   0,   0,   0,   0,   0,   0,   0,   0,\n",
       "       168, 205, 186, 183, 183, 186, 199, 215, 198, 172, 217, 213, 190,\n",
       "       180, 181, 183, 194, 196,  43,   0,   0,   0,   0,   0,   0,   0,\n",
       "         0, 113, 209, 184, 188, 188, 188, 188, 183, 185, 207, 148, 186,\n",
       "       181, 184, 186, 186, 184, 181, 192, 201,   0,   0,   0,   0,   0,\n",
       "         0,   0,   0, 185, 201, 191, 190, 190, 189, 189, 187, 197, 195,\n",
       "       160, 192, 184, 185, 181, 185, 184, 190, 185, 208,  23,   0,   0,\n",
       "         0,   0,   0,   0,   3, 219, 194, 195, 192, 190, 190, 188, 188,\n",
       "       191, 202, 187, 189, 181, 186, 187, 179, 183, 180, 179, 207,  61,\n",
       "         0,   0,   0,   0,   0,   0,  52, 213, 192, 198, 196, 193, 191,\n",
       "       189, 187, 186, 189, 185, 189, 185, 186, 202, 181, 186, 179, 183,\n",
       "       205,  99,   0,   0,   0,   0,   0,   0,  88, 201, 188, 213, 220,\n",
       "       191, 193, 190, 189, 188, 187, 187, 188, 188, 185, 185, 179, 198,\n",
       "       217, 191, 189, 137,   0,   0,   0,   0,   0,   0, 179, 216, 224,\n",
       "       247, 208, 201, 201, 194, 192, 189, 189, 188, 189, 187, 191, 191,\n",
       "       189, 185, 237, 226, 208, 177,   0,   0,   0,   0,   0,   0,  51,\n",
       "       154, 208, 175,  63, 212, 202, 197, 193, 191, 189, 188, 189, 190,\n",
       "       190, 190, 202, 133,  87, 220, 140,  27,   0,   0,   0,   0,   0,\n",
       "         0,   0,   0,   0,   0,  59, 211, 191, 201, 191, 191, 189, 188,\n",
       "       189, 188, 187, 181, 196, 162,   0,   0,   0,   0,   0,   0,   0,\n",
       "         0,   0,   0,   0,   0,   0,   0,  82, 211, 192, 202, 191, 192,\n",
       "       190, 188, 189, 188, 190, 186, 188, 169,   0,   0,   0,   0,   0,\n",
       "         0,   0,   0,   0,   0,   0,   0,   3,   0,  82, 201, 191, 201,\n",
       "       191, 192, 190, 188, 189, 188, 191, 191, 188, 164,   0,   0,   0,\n",
       "         0,   0,   0,   0,   0,   0,   0,   0,   0,   5,   0,  70, 195,\n",
       "       190, 194, 189, 191, 190, 188, 189, 189, 185, 191, 188, 157,   0,\n",
       "         0,   0,   0,   0,   0,   0,   0,   0,   0,   0,   0,   5,   0,\n",
       "        63, 195, 187, 191, 190, 191, 190, 189, 189, 190, 185, 187, 191,\n",
       "       151,   0,   0,   0,   0,   0,   0,   0,   0,   0,   0,   0,   0,\n",
       "         5,   0,  66, 198, 186, 192, 190, 191, 190, 189, 189, 189, 189,\n",
       "       178, 195, 140,   0,   0,   0,   0,   0,   0,   0,   0,   0,   0,\n",
       "         0,   0,   5,   0,  61, 195, 186, 192, 190, 191, 190, 189, 189,\n",
       "       190, 188, 178, 194, 135,   0,   0,   0,   0,   0,   0,   0,   0,\n",
       "         0,   0,   0,   0,   4,   0,  68, 192, 186, 193, 191, 191, 191,\n",
       "       190, 189, 190, 188, 184, 191, 141,   0,   0,   0,   0,   0,   0,\n",
       "         0,   0,   0,   0,   0,   0,   5,   0,  74, 193, 185, 194, 192,\n",
       "       192, 191, 190, 189, 189, 188, 185, 191, 151,   0,   0,   1,   0,\n",
       "         0,   0,   0,   0,   0,   0,   0,   0,   5,   0,  74, 192, 187,\n",
       "       194, 192, 192, 193, 192, 189, 187, 188, 185, 192, 165,   0,   0,\n",
       "         1,   0,   0,   0,   0,   0,   0,   0,   0,   0,   5,   0,  74,\n",
       "       193, 189, 193, 192, 193, 193, 191, 189, 187, 188, 185, 191, 175,\n",
       "         0,   0,   1,   0,   0,   0,   0,   0,   0,   0,   0,   0,   5,\n",
       "         0,  76, 197, 189, 190, 191, 193, 190, 188, 189, 190, 187, 184,\n",
       "       190, 185,   0,   0,   1,   0,   0,   0,   0,   0,   0,   0,   0,\n",
       "         0,   5,   0,  77, 197, 189, 189, 191, 192, 190, 190, 189, 189,\n",
       "       187, 185, 188, 197,   0,   0,   2,   0,   0,   0,   0,   0,   0,\n",
       "         0,   0,   0,   5,   0,  75, 196, 186, 185, 186, 187, 186, 186,\n",
       "       186, 186, 181, 184, 185, 172,   0,   0,   3,   0,   0,   0,   0,\n",
       "         0,   0,   0,   0,   0,   6,   0,  88, 204, 191, 206, 205, 205,\n",
       "       205, 205, 205, 205, 204, 202, 190, 184,  14,   0,   4,   0,   0,\n",
       "         0,   0,   0,   0,   0,   0,   0,   4,   0,  63, 175, 138, 140,\n",
       "       140, 141, 137, 136, 136, 136, 132, 130, 132, 148,   4,   0,   2,\n",
       "         0,   0,   0,   0], dtype=uint8)"
      ]
     },
     "execution_count": 7,
     "metadata": {},
     "output_type": "execute_result"
    }
   ],
   "source": [
    "train_images[3]"
   ]
  },
  {
   "cell_type": "markdown",
   "metadata": {},
   "source": [
    "It would be nice if we could actually see what this picture looks like. Note that the form $(n\\_obs, total\\_n\\_pixels)$, which is what we obtained looking at `np.shape(train_images)`, is desirable when training neural networks, but if we want to *visualize* the actual images, we need to reshape $total\\_n\\_pixels$ to something of the form ($horiz\\_pixels$, $vertical\\_pixels$). Let's use the numpy function `matrix.reshape` to look at the 4th image."
   ]
  },
  {
   "cell_type": "code",
   "execution_count": 58,
   "metadata": {},
   "outputs": [],
   "source": [
    "reshape_example= np.matrix.reshape(train_images[9],28,28)"
   ]
  },
  {
   "cell_type": "markdown",
   "metadata": {},
   "source": [
    "Let's quickly have a look at how this changed the data structure. Notice how you have an 28 x 28 matrix now!"
   ]
  },
  {
   "cell_type": "code",
   "execution_count": 59,
   "metadata": {},
   "outputs": [
    {
     "data": {
      "text/plain": [
       "array([[0.        , 0.        , 0.        , 0.        , 0.        ,\n",
       "        0.        , 0.        , 0.02745098, 0.        , 0.3019608 ,\n",
       "        0.76862746, 0.6431373 , 0.6156863 , 0.61960787, 0.7647059 ,\n",
       "        0.3372549 , 0.00392157, 0.6313726 , 0.5764706 , 0.        ,\n",
       "        0.00784314, 0.02352941, 0.        , 0.        , 0.        ,\n",
       "        0.        , 0.        , 0.        ],\n",
       "       [0.        , 0.        , 0.        , 0.        , 0.        ,\n",
       "        0.        , 0.        , 0.00784314, 0.        , 0.7607843 ,\n",
       "        0.78431374, 0.6784314 , 0.88235295, 0.7254902 , 0.7058824 ,\n",
       "        0.8901961 , 0.7647059 , 0.8235294 , 0.7647059 , 0.        ,\n",
       "        0.        , 0.03137255, 0.        , 0.        , 0.        ,\n",
       "        0.        , 0.        , 0.        ],\n",
       "       [0.        , 0.        , 0.        , 0.        , 0.        ,\n",
       "        0.        , 0.        , 0.        , 0.        , 0.84313726,\n",
       "        0.6392157 , 0.5764706 , 0.7411765 , 0.654902  , 0.8039216 ,\n",
       "        0.88235295, 0.6509804 , 0.6392157 , 0.7411765 , 0.18039216,\n",
       "        0.        , 0.03137255, 0.        , 0.        , 0.        ,\n",
       "        0.        , 0.        , 0.        ],\n",
       "       [0.        , 0.        , 0.        , 0.        , 0.        ,\n",
       "        0.        , 0.        , 0.        , 0.09803922, 0.8156863 ,\n",
       "        0.69803923, 0.6901961 , 0.6784314 , 0.62352943, 0.9019608 ,\n",
       "        0.7254902 , 0.6784314 , 0.6862745 , 0.7882353 , 0.42745098,\n",
       "        0.        , 0.03921569, 0.        , 0.        , 0.        ,\n",
       "        0.        , 0.        , 0.        ],\n",
       "       [0.        , 0.        , 0.        , 0.        , 0.        ,\n",
       "        0.        , 0.        , 0.        , 0.3529412 , 0.80784315,\n",
       "        0.59607846, 0.5411765 , 0.6       , 0.6       , 0.7254902 ,\n",
       "        0.69411767, 0.63529414, 0.5254902 , 0.6509804 , 0.59607846,\n",
       "        0.        , 0.01960784, 0.        , 0.        , 0.        ,\n",
       "        0.        , 0.        , 0.        ],\n",
       "       [0.        , 0.        , 0.        , 0.        , 0.        ,\n",
       "        0.        , 0.        , 0.        , 0.4745098 , 0.7921569 ,\n",
       "        0.6       , 0.5882353 , 0.62352943, 0.65882355, 0.6666667 ,\n",
       "        0.7294118 , 0.6156863 , 0.5294118 , 0.6392157 , 0.76862746,\n",
       "        0.        , 0.01176471, 0.        , 0.        , 0.        ,\n",
       "        0.        , 0.        , 0.        ],\n",
       "       [0.        , 0.        , 0.        , 0.        , 0.        ,\n",
       "        0.        , 0.        , 0.        , 0.5372549 , 0.7137255 ,\n",
       "        0.6392157 , 0.65882355, 0.65882355, 0.70980394, 0.78431374,\n",
       "        0.654902  , 0.59607846, 0.61960787, 0.6666667 , 0.7294118 ,\n",
       "        0.        , 0.00392157, 0.        , 0.        , 0.        ,\n",
       "        0.        , 0.        , 0.        ],\n",
       "       [0.        , 0.        , 0.        , 0.        , 0.        ,\n",
       "        0.        , 0.        , 0.        , 0.6117647 , 0.6901961 ,\n",
       "        0.5372549 , 0.5647059 , 0.52156866, 0.6784314 , 0.88235295,\n",
       "        0.65882355, 0.5568628 , 0.5372549 , 0.6509804 , 0.7254902 ,\n",
       "        0.        , 0.        , 0.        , 0.        , 0.        ,\n",
       "        0.        , 0.        , 0.        ],\n",
       "       [0.        , 0.        , 0.        , 0.        , 0.        ,\n",
       "        0.        , 0.        , 0.        , 0.65882355, 0.6862745 ,\n",
       "        0.4862745 , 0.5137255 , 0.5568628 , 0.5803922 , 0.5372549 ,\n",
       "        0.8352941 , 0.5254902 , 0.43137255, 0.5137255 , 0.7647059 ,\n",
       "        0.        , 0.        , 0.        , 0.        , 0.        ,\n",
       "        0.        , 0.        , 0.        ],\n",
       "       [0.        , 0.        , 0.        , 0.        , 0.        ,\n",
       "        0.        , 0.        , 0.        , 0.69411767, 0.6784314 ,\n",
       "        0.4862745 , 0.45490196, 0.5764706 , 0.5137255 , 0.2509804 ,\n",
       "        0.85882354, 0.5764706 , 0.39215687, 0.38431373, 0.7882353 ,\n",
       "        0.05882353, 0.        , 0.        , 0.        , 0.        ,\n",
       "        0.        , 0.        , 0.        ],\n",
       "       [0.        , 0.        , 0.        , 0.        , 0.        ,\n",
       "        0.        , 0.        , 0.        , 0.7254902 , 0.5647059 ,\n",
       "        0.5058824 , 0.4392157 , 0.6156863 , 0.41568628, 0.11372549,\n",
       "        0.88235295, 0.56078434, 0.39215687, 0.41568628, 0.8039216 ,\n",
       "        0.11764706, 0.        , 0.        , 0.        , 0.        ,\n",
       "        0.        , 0.        , 0.        ],\n",
       "       [0.        , 0.        , 0.        , 0.        , 0.        ,\n",
       "        0.        , 0.        , 0.        , 0.74509805, 0.5019608 ,\n",
       "        0.5254902 , 0.40784314, 0.6392157 , 0.29803923, 0.        ,\n",
       "        0.8745098 , 0.54509807, 0.38431373, 0.38039216, 0.7647059 ,\n",
       "        0.16078432, 0.        , 0.        , 0.        , 0.        ,\n",
       "        0.        , 0.        , 0.        ],\n",
       "       [0.        , 0.        , 0.        , 0.        , 0.        ,\n",
       "        0.        , 0.        , 0.04705882, 0.7607843 , 0.4745098 ,\n",
       "        0.5568628 , 0.39215687, 0.7254902 , 0.12156863, 0.        ,\n",
       "        0.8235294 , 0.6666667 , 0.40784314, 0.30980393, 0.7490196 ,\n",
       "        0.19607843, 0.        , 0.        , 0.        , 0.        ,\n",
       "        0.        , 0.        , 0.        ],\n",
       "       [0.        , 0.        , 0.        , 0.        , 0.        ,\n",
       "        0.        , 0.        , 0.10588235, 0.7647059 , 0.43529412,\n",
       "        0.5294118 , 0.3647059 , 0.78039217, 0.05098039, 0.        ,\n",
       "        0.69411767, 0.7058824 , 0.48235294, 0.30980393, 0.7647059 ,\n",
       "        0.26666668, 0.        , 0.        , 0.        , 0.        ,\n",
       "        0.        , 0.        , 0.        ],\n",
       "       [0.        , 0.        , 0.        , 0.        , 0.        ,\n",
       "        0.        , 0.        , 0.15294118, 0.7882353 , 0.43137255,\n",
       "        0.50980395, 0.5254902 , 0.76862746, 0.        , 0.        ,\n",
       "        0.5411765 , 0.6901961 , 0.5254902 , 0.31764707, 0.7254902 ,\n",
       "        0.3372549 , 0.        , 0.        , 0.        , 0.        ,\n",
       "        0.        , 0.        , 0.        ],\n",
       "       [0.        , 0.        , 0.        , 0.        , 0.        ,\n",
       "        0.        , 0.        , 0.19607843, 0.77254903, 0.4509804 ,\n",
       "        0.4392157 , 0.6156863 , 0.65882355, 0.        , 0.        ,\n",
       "        0.4392157 , 0.69803923, 0.5372549 , 0.3372549 , 0.69411767,\n",
       "        0.40784314, 0.        , 0.        , 0.        , 0.        ,\n",
       "        0.        , 0.        , 0.        ],\n",
       "       [0.        , 0.        , 0.        , 0.        , 0.        ,\n",
       "        0.        , 0.        , 0.2509804 , 0.78039217, 0.49019608,\n",
       "        0.40784314, 0.67058825, 0.5254902 , 0.        , 0.        ,\n",
       "        0.30980393, 0.7137255 , 0.5803922 , 0.41568628, 0.6666667 ,\n",
       "        0.4509804 , 0.        , 0.        , 0.        , 0.        ,\n",
       "        0.        , 0.        , 0.        ],\n",
       "       [0.        , 0.        , 0.        , 0.        , 0.        ,\n",
       "        0.        , 0.        , 0.3019608 , 0.78039217, 0.50980395,\n",
       "        0.34117648, 0.73333335, 0.3372549 , 0.        , 0.        ,\n",
       "        0.1882353 , 0.73333335, 0.5647059 , 0.4509804 , 0.61960787,\n",
       "        0.49411765, 0.        , 0.        , 0.        , 0.        ,\n",
       "        0.        , 0.        , 0.        ],\n",
       "       [0.        , 0.        , 0.        , 0.        , 0.        ,\n",
       "        0.        , 0.        , 0.33333334, 0.827451  , 0.5372549 ,\n",
       "        0.41960785, 0.84705883, 0.20784314, 0.        , 0.        ,\n",
       "        0.08627451, 0.85882354, 0.6509804 , 0.46666667, 0.6392157 ,\n",
       "        0.5568628 , 0.        , 0.        , 0.        , 0.        ,\n",
       "        0.        , 0.        , 0.        ],\n",
       "       [0.        , 0.        , 0.        , 0.        , 0.        ,\n",
       "        0.        , 0.        , 0.36078432, 0.8627451 , 0.6509804 ,\n",
       "        0.56078434, 0.8392157 , 0.09803922, 0.        , 0.        ,\n",
       "        0.00784314, 0.7647059 , 0.6901961 , 0.54901963, 0.6666667 ,\n",
       "        0.61960787, 0.        , 0.        , 0.        , 0.        ,\n",
       "        0.        , 0.        , 0.        ],\n",
       "       [0.        , 0.        , 0.        , 0.        , 0.        ,\n",
       "        0.        , 0.        , 0.38431373, 0.827451  , 0.69411767,\n",
       "        0.7176471 , 0.8235294 , 0.        , 0.        , 0.        ,\n",
       "        0.        , 0.7176471 , 0.7254902 , 0.654902  , 0.7254902 ,\n",
       "        0.6509804 , 0.        , 0.        , 0.        , 0.        ,\n",
       "        0.        , 0.        , 0.        ],\n",
       "       [0.        , 0.        , 0.        , 0.        , 0.        ,\n",
       "        0.        , 0.        , 0.41568628, 0.8392157 , 0.7058824 ,\n",
       "        0.77254903, 0.78039217, 0.        , 0.        , 0.01176471,\n",
       "        0.        , 0.59607846, 0.74509805, 0.7058824 , 0.76862746,\n",
       "        0.65882355, 0.        , 0.        , 0.        , 0.        ,\n",
       "        0.        , 0.        , 0.        ],\n",
       "       [0.        , 0.        , 0.        , 0.        , 0.        ,\n",
       "        0.        , 0.        , 0.43529412, 0.8352941 , 0.7176471 ,\n",
       "        0.7921569 , 0.7137255 , 0.        , 0.        , 0.02745098,\n",
       "        0.        , 0.50980395, 0.7294118 , 0.73333335, 0.78431374,\n",
       "        0.69803923, 0.        , 0.        , 0.        , 0.        ,\n",
       "        0.        , 0.        , 0.        ],\n",
       "       [0.        , 0.        , 0.        , 0.        , 0.        ,\n",
       "        0.        , 0.        , 0.44705883, 0.84705883, 0.7294118 ,\n",
       "        0.8235294 , 0.5294118 , 0.        , 0.02745098, 0.03921569,\n",
       "        0.        , 0.39215687, 0.7254902 , 0.7176471 , 0.78039217,\n",
       "        0.7137255 , 0.        , 0.        , 0.        , 0.        ,\n",
       "        0.        , 0.        , 0.        ],\n",
       "       [0.        , 0.        , 0.        , 0.        , 0.        ,\n",
       "        0.        , 0.        , 0.45882353, 0.8627451 , 0.7411765 ,\n",
       "        0.827451  , 0.43137255, 0.        , 0.03921569, 0.02745098,\n",
       "        0.        , 0.25490198, 0.7411765 , 0.7058824 , 0.77254903,\n",
       "        0.7176471 , 0.        , 0.        , 0.        , 0.        ,\n",
       "        0.        , 0.        , 0.        ],\n",
       "       [0.        , 0.        , 0.        , 0.        , 0.        ,\n",
       "        0.        , 0.        , 0.4509804 , 0.81960785, 0.7254902 ,\n",
       "        0.8156863 , 0.2784314 , 0.        , 0.04705882, 0.03137255,\n",
       "        0.        , 0.13333334, 0.7137255 , 0.70980394, 0.74509805,\n",
       "        0.7490196 , 0.        , 0.        , 0.        , 0.        ,\n",
       "        0.        , 0.        , 0.        ],\n",
       "       [0.        , 0.        , 0.        , 0.        , 0.        ,\n",
       "        0.        , 0.        , 0.61960787, 1.        , 0.78039217,\n",
       "        0.8235294 , 0.10588235, 0.        , 0.04313726, 0.02352941,\n",
       "        0.        , 0.        , 0.85882354, 0.7411765 , 0.78039217,\n",
       "        0.8392157 , 0.        , 0.        , 0.        , 0.        ,\n",
       "        0.        , 0.        , 0.        ],\n",
       "       [0.        , 0.        , 0.        , 0.        , 0.        ,\n",
       "        0.        , 0.        , 0.2627451 , 0.49411765, 0.4862745 ,\n",
       "        0.61960787, 0.        , 0.        , 0.02745098, 0.02745098,\n",
       "        0.        , 0.        , 0.59607846, 0.54901963, 0.47058824,\n",
       "        0.31764707, 0.        , 0.        , 0.        , 0.        ,\n",
       "        0.        , 0.        , 0.        ]], dtype=float32)"
      ]
     },
     "execution_count": 59,
     "metadata": {},
     "output_type": "execute_result"
    }
   ],
   "source": [
    "reshape_example"
   ]
  },
  {
   "cell_type": "code",
   "execution_count": 60,
   "metadata": {},
   "outputs": [
    {
     "data": {
      "image/png": "[encoded data removed]",
      "text/plain": [
       "<matplotlib.figure.Figure at 0x18236fff28>"
      ]
     },
     "metadata": {},
     "output_type": "display_data"
    }
   ],
   "source": [
    "%matplotlib inline\n",
    "import matplotlib.pyplot as plt\n",
    "plt.imshow(reshape_example, cmap=plt.cm.binary)\n",
    "plt.show()"
   ]
  },
  {
   "cell_type": "markdown",
   "metadata": {},
   "source": [
    "Remember that the resolution of this image is pretty low, but for this example it's definitely clear that this is a shirt!"
   ]
  },
  {
   "cell_type": "markdown",
   "metadata": {},
   "source": [
    "Let's look at the labels. As mentioned, there are 10 classes of clothing in this data set. In the `train_labels` (`test_labels`) data set, this means that there are exactly 10,000 (2500) inputs with each input ranging from [0,9]."
   ]
  },
  {
   "cell_type": "code",
   "execution_count": 11,
   "metadata": {},
   "outputs": [
    {
     "data": {
      "text/plain": [
       "(10000,)"
      ]
     },
     "execution_count": 11,
     "metadata": {},
     "output_type": "execute_result"
    }
   ],
   "source": [
    "np.shape(train_labels)"
   ]
  },
  {
   "cell_type": "code",
   "execution_count": 12,
   "metadata": {},
   "outputs": [
    {
     "data": {
      "text/plain": [
       "array([4, 6, 2, ..., 8, 1, 0], dtype=uint8)"
      ]
     },
     "execution_count": 12,
     "metadata": {},
     "output_type": "execute_result"
    }
   ],
   "source": [
    "train_labels"
   ]
  },
  {
   "cell_type": "markdown",
   "metadata": {},
   "source": [
    "Although we'll keep this decoded version to train and test our model (actually, we'll decode even further and perform one-hot encoding), it would be nice if we could do a sanity check on our data now and verify that the train instances are labeled correctly. The dictionary `cat_dict` contains the so-called \"encoding information\", to encode the data back from number to clothing category. The `encoded_labels` object contains the encoded labels. Let's have a look at the 4th observation in the `encoded_labels` and check if the picture we showed before is indeed identified as a dress."
   ]
  },
  {
   "cell_type": "code",
   "execution_count": 13,
   "metadata": {},
   "outputs": [],
   "source": [
    "encoded_labels = {0:'T-shirt/Top',\n",
    "                  1:'Trouser',\n",
    "                  2:'Pullover',\n",
    "                  3:'Dress',\n",
    "                  4:'Coat',\n",
    "                  5:'Sandal',\n",
    "                  6:'Shirt',\n",
    "                  7:'Sneaker',\n",
    "                  8:'Bag',\n",
    "                  9:'Ankle Boot'}\n",
    "\n",
    "encoded_train = [encoded_labels[i] for i in train_labels]\n",
    "encoded_test = [encoded_labels[i] for i in test_labels]"
   ]
  },
  {
   "cell_type": "code",
   "execution_count": 14,
   "metadata": {},
   "outputs": [
    {
     "data": {
      "text/plain": [
       "'T-shirt/Top'"
      ]
     },
     "execution_count": 14,
     "metadata": {},
     "output_type": "execute_result"
    }
   ],
   "source": [
    "encoded_train[3]"
   ]
  },
  {
   "cell_type": "markdown",
   "metadata": {},
   "source": [
    "This label seems to be correct! By replacing the value passed in `index_test` below, you can look at several pictures and the associated label. "
   ]
  },
  {
   "cell_type": "code",
   "execution_count": 15,
   "metadata": {},
   "outputs": [
    {
     "data": {
      "image/png": "[encoded data removed]",
      "text/plain": [
       "<matplotlib.figure.Figure at 0x181e953940>"
      ]
     },
     "metadata": {},
     "output_type": "display_data"
    },
    {
     "data": {
      "text/plain": [
       "'Sandal'"
      ]
     },
     "execution_count": 15,
     "metadata": {},
     "output_type": "execute_result"
    }
   ],
   "source": [
    "index_fill = 1376 # replace with any value between 0 and 9999\n",
    "\n",
    "reshape= np.matrix.reshape(train_images[index_fill],28,28)\n",
    "\n",
    "import matplotlib.pyplot as plt\n",
    "plt.imshow(reshape, cmap=plt.cm.binary)\n",
    "plt.show()\n",
    "\n",
    "encoded_train[index_fill]"
   ]
  },
  {
   "cell_type": "markdown",
   "metadata": {},
   "source": [
    "# 2. Build densely connected network as a baseline"
   ]
  },
  {
   "cell_type": "markdown",
   "metadata": {},
   "source": [
    "Every time you run a newer, more advanced model on your data, you would want to make sure you compare it with what you have learned. For that reason, let's look at a dense neural network as a baseline before diving into convolutional networks. As data is manipulated slightly differently in convolutional networks, let's perform data manipulation for the dense network, and we'll start over from scratch for the convolutional neural network."
   ]
  },
  {
   "cell_type": "markdown",
   "metadata": {},
   "source": [
    "Remember that the image data is stored in an array of shape (10000, 784) of type uint8 with values in the [0, 255] interval. To serve as input for the model, we want transform it into a float32 array of the same shape, but with values between 0 and 1 instead of 0 and 255.  "
   ]
  },
  {
   "cell_type": "code",
   "execution_count": 16,
   "metadata": {},
   "outputs": [],
   "source": [
    "train_images = train_images.astype('float32') / 255\n",
    "test_images = test_images.astype('float32') / 255"
   ]
  },
  {
   "cell_type": "markdown",
   "metadata": {},
   "source": [
    "We're not quite done yet. Remember that instead of a label somewhere [0,9], neural networks generally use one-hot encoding. For this exercise, this means that the label for each observation is replaced by a vector containing 9 `0`'s and just 1 `1`, in the place of the label index.\n",
    "\n",
    "You can use `to_categorical` in `keras.utils` to do this."
   ]
  },
  {
   "cell_type": "code",
   "execution_count": 17,
   "metadata": {},
   "outputs": [
    {
     "name": "stderr",
     "output_type": "stream",
     "text": [
      "Using TensorFlow backend.\n"
     ]
    }
   ],
   "source": [
    "from keras.utils import to_categorical\n",
    "train_labels = to_categorical(train_labels)\n",
    "test_labels= to_categorical(test_labels)"
   ]
  },
  {
   "cell_type": "markdown",
   "metadata": {},
   "source": [
    "From our 10,000 training set elements, let set 2000 aside for validation."
   ]
  },
  {
   "cell_type": "code",
   "execution_count": 18,
   "metadata": {},
   "outputs": [],
   "source": [
    "img_val = train_images[:2000]\n",
    "partial_img_train  = train_images[2000:]\n",
    "label_val = train_labels[:2000]\n",
    "partial_label_train = train_labels[2000:]"
   ]
  },
  {
   "cell_type": "markdown",
   "metadata": {},
   "source": [
    "Now, let's build our baseline network. You'll build two dense hidden layers, the first one with 128 hidden units, and the second one with 64 hidden units. Use the rectified linear unit as an activation function for both. Remember that the input shape is 28 x 28 for both layers. The last layer of the network should have a softmax activation function (because this is a multiclass problem), and 10 units.\n",
    "\n",
    "Let's train the model for 50 epochs in batches of 128."
   ]
  },
  {
   "cell_type": "code",
   "execution_count": 19,
   "metadata": {},
   "outputs": [
    {
     "name": "stdout",
     "output_type": "stream",
     "text": [
      "Train on 8000 samples, validate on 2000 samples\n",
      "Epoch 1/50\n",
      "8000/8000 [==============================] - 1s 86us/step - loss: 0.9281 - acc: 0.6790 - val_loss: 0.8766 - val_acc: 0.6810\n",
      "Epoch 2/50\n",
      "8000/8000 [==============================] - 0s 52us/step - loss: 0.6091 - acc: 0.7820 - val_loss: 0.6782 - val_acc: 0.7655\n",
      "Epoch 3/50\n",
      "8000/8000 [==============================] - 0s 51us/step - loss: 0.5346 - acc: 0.8153 - val_loss: 0.5020 - val_acc: 0.8340\n",
      "Epoch 4/50\n",
      "8000/8000 [==============================] - 0s 51us/step - loss: 0.4831 - acc: 0.8280 - val_loss: 0.4554 - val_acc: 0.8485\n",
      "Epoch 5/50\n",
      "8000/8000 [==============================] - 0s 51us/step - loss: 0.4400 - acc: 0.8415 - val_loss: 0.5913 - val_acc: 0.7890\n",
      "Epoch 6/50\n",
      "8000/8000 [==============================] - 0s 49us/step - loss: 0.4193 - acc: 0.8481 - val_loss: 0.4726 - val_acc: 0.8170\n",
      "Epoch 7/50\n",
      "8000/8000 [==============================] - 0s 47us/step - loss: 0.3911 - acc: 0.8586 - val_loss: 0.5202 - val_acc: 0.8170\n",
      "Epoch 8/50\n",
      "8000/8000 [==============================] - 0s 44us/step - loss: 0.3682 - acc: 0.8691 - val_loss: 0.4282 - val_acc: 0.8465\n",
      "Epoch 9/50\n",
      "8000/8000 [==============================] - 0s 46us/step - loss: 0.3540 - acc: 0.8738 - val_loss: 0.4557 - val_acc: 0.8385\n",
      "Epoch 10/50\n",
      "8000/8000 [==============================] - 0s 57us/step - loss: 0.3390 - acc: 0.8736 - val_loss: 0.4310 - val_acc: 0.8460\n",
      "Epoch 11/50\n",
      "8000/8000 [==============================] - 0s 51us/step - loss: 0.3210 - acc: 0.8798 - val_loss: 0.4823 - val_acc: 0.8450\n",
      "Epoch 12/50\n",
      "8000/8000 [==============================] - 0s 53us/step - loss: 0.3103 - acc: 0.8849 - val_loss: 0.3884 - val_acc: 0.8595\n",
      "Epoch 13/50\n",
      "8000/8000 [==============================] - 0s 48us/step - loss: 0.2975 - acc: 0.8882 - val_loss: 0.4176 - val_acc: 0.8555\n",
      "Epoch 14/50\n",
      "8000/8000 [==============================] - 0s 41us/step - loss: 0.2827 - acc: 0.8969 - val_loss: 0.4573 - val_acc: 0.8325\n",
      "Epoch 15/50\n",
      "8000/8000 [==============================] - 0s 50us/step - loss: 0.2707 - acc: 0.9006 - val_loss: 0.4285 - val_acc: 0.8500\n",
      "Epoch 16/50\n",
      "8000/8000 [==============================] - 0s 51us/step - loss: 0.2618 - acc: 0.9057 - val_loss: 0.4449 - val_acc: 0.8400\n",
      "Epoch 17/50\n",
      "8000/8000 [==============================] - 0s 55us/step - loss: 0.2504 - acc: 0.9085 - val_loss: 0.4580 - val_acc: 0.8420\n",
      "Epoch 18/50\n",
      "8000/8000 [==============================] - 0s 49us/step - loss: 0.2441 - acc: 0.9091 - val_loss: 0.4658 - val_acc: 0.8315\n",
      "Epoch 19/50\n",
      "8000/8000 [==============================] - 0s 54us/step - loss: 0.2322 - acc: 0.9151 - val_loss: 0.4998 - val_acc: 0.8330\n",
      "Epoch 20/50\n",
      "8000/8000 [==============================] - 0s 56us/step - loss: 0.2237 - acc: 0.9184 - val_loss: 0.4119 - val_acc: 0.8635\n",
      "Epoch 21/50\n",
      "8000/8000 [==============================] - 0s 52us/step - loss: 0.2158 - acc: 0.9207 - val_loss: 0.5148 - val_acc: 0.8325\n",
      "Epoch 22/50\n",
      "8000/8000 [==============================] - 0s 42us/step - loss: 0.2066 - acc: 0.9250 - val_loss: 0.4478 - val_acc: 0.8440\n",
      "Epoch 23/50\n",
      "8000/8000 [==============================] - 0s 46us/step - loss: 0.1977 - acc: 0.9261 - val_loss: 0.4938 - val_acc: 0.8310\n",
      "Epoch 24/50\n",
      "8000/8000 [==============================] - 0s 42us/step - loss: 0.1914 - acc: 0.9289 - val_loss: 0.4513 - val_acc: 0.8535\n",
      "Epoch 25/50\n",
      "8000/8000 [==============================] - 0s 40us/step - loss: 0.1854 - acc: 0.9284 - val_loss: 0.4630 - val_acc: 0.8470\n",
      "Epoch 26/50\n",
      "8000/8000 [==============================] - 0s 39us/step - loss: 0.1794 - acc: 0.9335 - val_loss: 0.4266 - val_acc: 0.8620\n",
      "Epoch 27/50\n",
      "8000/8000 [==============================] - 0s 40us/step - loss: 0.1750 - acc: 0.9351 - val_loss: 0.4341 - val_acc: 0.8680\n",
      "Epoch 28/50\n",
      "8000/8000 [==============================] - 0s 40us/step - loss: 0.1723 - acc: 0.9396 - val_loss: 0.3989 - val_acc: 0.8640\n",
      "Epoch 29/50\n",
      "8000/8000 [==============================] - 0s 39us/step - loss: 0.1552 - acc: 0.9453 - val_loss: 0.4081 - val_acc: 0.8715\n",
      "Epoch 30/50\n",
      "8000/8000 [==============================] - 0s 39us/step - loss: 0.1634 - acc: 0.9400 - val_loss: 0.5256 - val_acc: 0.8405\n",
      "Epoch 31/50\n",
      "8000/8000 [==============================] - 0s 40us/step - loss: 0.1530 - acc: 0.9446 - val_loss: 0.5193 - val_acc: 0.8485\n",
      "Epoch 32/50\n",
      "8000/8000 [==============================] - 0s 39us/step - loss: 0.1481 - acc: 0.9457 - val_loss: 0.5262 - val_acc: 0.8455\n",
      "Epoch 33/50\n",
      "8000/8000 [==============================] - 0s 40us/step - loss: 0.1422 - acc: 0.9514 - val_loss: 0.4942 - val_acc: 0.8560\n",
      "Epoch 34/50\n",
      "8000/8000 [==============================] - 0s 39us/step - loss: 0.1405 - acc: 0.9481 - val_loss: 0.4710 - val_acc: 0.8670\n",
      "Epoch 35/50\n",
      "8000/8000 [==============================] - 0s 40us/step - loss: 0.1365 - acc: 0.9526 - val_loss: 0.4635 - val_acc: 0.8580\n",
      "Epoch 36/50\n",
      "8000/8000 [==============================] - 0s 40us/step - loss: 0.1258 - acc: 0.9544 - val_loss: 0.5279 - val_acc: 0.8550\n",
      "Epoch 37/50\n",
      "8000/8000 [==============================] - 0s 40us/step - loss: 0.1246 - acc: 0.9532 - val_loss: 0.5241 - val_acc: 0.8525\n",
      "Epoch 38/50\n",
      "8000/8000 [==============================] - 0s 43us/step - loss: 0.1235 - acc: 0.9537 - val_loss: 0.5225 - val_acc: 0.8595\n",
      "Epoch 39/50\n",
      "8000/8000 [==============================] - 0s 40us/step - loss: 0.1283 - acc: 0.9517 - val_loss: 0.4833 - val_acc: 0.8635\n",
      "Epoch 40/50\n",
      "8000/8000 [==============================] - 0s 43us/step - loss: 0.1133 - acc: 0.9591 - val_loss: 0.4916 - val_acc: 0.8620\n",
      "Epoch 41/50\n",
      "8000/8000 [==============================] - 0s 43us/step - loss: 0.1101 - acc: 0.9621 - val_loss: 0.5899 - val_acc: 0.8460\n",
      "Epoch 42/50\n",
      "8000/8000 [==============================] - 0s 41us/step - loss: 0.1033 - acc: 0.9636 - val_loss: 0.5258 - val_acc: 0.8450\n",
      "Epoch 43/50\n",
      "8000/8000 [==============================] - 0s 45us/step - loss: 0.1020 - acc: 0.9625 - val_loss: 0.4966 - val_acc: 0.8660\n",
      "Epoch 44/50\n",
      "8000/8000 [==============================] - 0s 48us/step - loss: 0.0989 - acc: 0.9644 - val_loss: 0.5328 - val_acc: 0.8560\n",
      "Epoch 45/50\n",
      "8000/8000 [==============================] - 0s 44us/step - loss: 0.0962 - acc: 0.9654 - val_loss: 0.6791 - val_acc: 0.8240\n",
      "Epoch 46/50\n",
      "8000/8000 [==============================] - 0s 44us/step - loss: 0.0940 - acc: 0.9669 - val_loss: 0.5820 - val_acc: 0.8485\n",
      "Epoch 47/50\n",
      "8000/8000 [==============================] - 0s 40us/step - loss: 0.0923 - acc: 0.9651 - val_loss: 0.5480 - val_acc: 0.8575\n",
      "Epoch 48/50\n",
      "8000/8000 [==============================] - 0s 41us/step - loss: 0.0906 - acc: 0.9696 - val_loss: 0.5781 - val_acc: 0.8590\n",
      "Epoch 49/50\n",
      "8000/8000 [==============================] - 0s 44us/step - loss: 0.0828 - acc: 0.9724 - val_loss: 0.6971 - val_acc: 0.8350\n",
      "Epoch 50/50\n",
      "8000/8000 [==============================] - 0s 42us/step - loss: 0.0860 - acc: 0.9685 - val_loss: 0.5995 - val_acc: 0.8560\n"
     ]
    }
   ],
   "source": [
    "from keras import models\n",
    "from keras import layers\n",
    "dense = models.Sequential()\n",
    "dense.add(layers.Dense(128, activation='relu', input_shape=(28 * 28,)))\n",
    "dense.add(layers.Dense(64, activation='relu', input_shape=(28 * 28,)))\n",
    "dense.add(layers.Dense(10, activation='softmax'))\n",
    "\n",
    "dense.compile(optimizer='rmsprop',\n",
    "                loss='categorical_crossentropy',\n",
    "                metrics=['accuracy'])\n",
    "\n",
    "dense_fit = dense.fit(partial_img_train, \n",
    "                      partial_label_train, \n",
    "                      epochs=50, \n",
    "                      batch_size=128,\n",
    "                      validation_data=(img_val, label_val))"
   ]
  },
  {
   "cell_type": "markdown",
   "metadata": {},
   "source": [
    "Let's plot the evolution of the training versus validation loss along the epochs."
   ]
  },
  {
   "cell_type": "code",
   "execution_count": 20,
   "metadata": {},
   "outputs": [
    {
     "data": {
      "image/png": "[encoded data removed]",
      "text/plain": [
       "<matplotlib.figure.Figure at 0x1822e0b4a8>"
      ]
     },
     "metadata": {},
     "output_type": "display_data"
    }
   ],
   "source": [
    "hist_dense = dense_fit.history\n",
    "loss_values = hist_dense['loss']\n",
    "val_loss_values = hist_dense['val_loss']\n",
    "\n",
    "epochs = range(1, len(loss_values) + 1)\n",
    "plt.plot(epochs, loss_values, 'g.', label='Training loss')\n",
    "plt.plot(epochs, val_loss_values, 'g', label='Validation loss')\n",
    "\n",
    "plt.title('Training and validation loss')\n",
    "plt.xlabel('Epochs')\n",
    "plt.ylabel('Loss')\n",
    "plt.legend()\n",
    "plt.show()"
   ]
  },
  {
   "cell_type": "markdown",
   "metadata": {},
   "source": [
    "Let's plot the evolution of the training versus validation accuracy along the epochs."
   ]
  },
  {
   "cell_type": "code",
   "execution_count": 21,
   "metadata": {},
   "outputs": [
    {
     "data": {
      "image/png": "[encoded data removed]",
      "text/plain": [
       "<matplotlib.figure.Figure at 0x1822e0b588>"
      ]
     },
     "metadata": {},
     "output_type": "display_data"
    }
   ],
   "source": [
    "acc_values = hist_dense['acc'] \n",
    "val_acc_values = hist_dense['val_acc']\n",
    "\n",
    "plt.plot(epochs, acc_values, 'r.', label='Training acc')\n",
    "plt.plot(epochs, val_acc_values, 'r', label='Validation acc')\n",
    "plt.title('Training and validation accuracy')\n",
    "plt.xlabel('Epochs')\n",
    "plt.ylabel('Loss')\n",
    "plt.legend()\n",
    "plt.show()"
   ]
  },
  {
   "cell_type": "markdown",
   "metadata": {},
   "source": [
    "The validation accuracy and loss seem to be fairly volatile, but as we move along the epochs, the validation loss seems to go up again.\n",
    "It seems appropriate to stop training after about ~20 epochs. Let's run the model again changing `epochs = 20`, and let's look at the results."
   ]
  },
  {
   "cell_type": "code",
   "execution_count": 22,
   "metadata": {},
   "outputs": [
    {
     "name": "stdout",
     "output_type": "stream",
     "text": [
      "Train on 8000 samples, validate on 2000 samples\n",
      "Epoch 1/20\n",
      "8000/8000 [==============================] - 1s 97us/step - loss: 0.9816 - acc: 0.6594 - val_loss: 0.6845 - val_acc: 0.7825\n",
      "Epoch 2/20\n",
      "8000/8000 [==============================] - 0s 50us/step - loss: 0.6299 - acc: 0.7768 - val_loss: 0.5924 - val_acc: 0.8065\n",
      "Epoch 3/20\n",
      "8000/8000 [==============================] - 0s 50us/step - loss: 0.5506 - acc: 0.8010 - val_loss: 0.5624 - val_acc: 0.7920\n",
      "Epoch 4/20\n",
      "8000/8000 [==============================] - 0s 53us/step - loss: 0.4982 - acc: 0.8226 - val_loss: 0.5394 - val_acc: 0.8095\n",
      "Epoch 5/20\n",
      "8000/8000 [==============================] - 0s 53us/step - loss: 0.4615 - acc: 0.8337 - val_loss: 0.6917 - val_acc: 0.7530\n",
      "Epoch 6/20\n",
      "8000/8000 [==============================] - 0s 43us/step - loss: 0.4310 - acc: 0.8431 - val_loss: 0.5057 - val_acc: 0.8200\n",
      "Epoch 7/20\n",
      "8000/8000 [==============================] - 0s 53us/step - loss: 0.4085 - acc: 0.8544 - val_loss: 0.5190 - val_acc: 0.8155\n",
      "Epoch 8/20\n",
      "8000/8000 [==============================] - 0s 53us/step - loss: 0.3955 - acc: 0.8568 - val_loss: 0.4391 - val_acc: 0.8525\n",
      "Epoch 9/20\n",
      "8000/8000 [==============================] - 0s 51us/step - loss: 0.3761 - acc: 0.8665 - val_loss: 0.4210 - val_acc: 0.8575\n",
      "Epoch 10/20\n",
      "8000/8000 [==============================] - 0s 54us/step - loss: 0.3578 - acc: 0.8729 - val_loss: 0.5232 - val_acc: 0.8240\n",
      "Epoch 11/20\n",
      "8000/8000 [==============================] - 0s 52us/step - loss: 0.3422 - acc: 0.8778 - val_loss: 0.4481 - val_acc: 0.8440\n",
      "Epoch 12/20\n",
      "8000/8000 [==============================] - 0s 42us/step - loss: 0.3249 - acc: 0.8832 - val_loss: 0.4693 - val_acc: 0.8330\n",
      "Epoch 13/20\n",
      "8000/8000 [==============================] - 0s 44us/step - loss: 0.3132 - acc: 0.8872 - val_loss: 0.4916 - val_acc: 0.8270\n",
      "Epoch 14/20\n",
      "8000/8000 [==============================] - 0s 41us/step - loss: 0.3007 - acc: 0.8885 - val_loss: 0.4408 - val_acc: 0.8520\n",
      "Epoch 15/20\n",
      "8000/8000 [==============================] - 0s 41us/step - loss: 0.2898 - acc: 0.8929 - val_loss: 0.4542 - val_acc: 0.8430\n",
      "Epoch 16/20\n",
      "8000/8000 [==============================] - 0s 41us/step - loss: 0.2793 - acc: 0.8988 - val_loss: 0.4079 - val_acc: 0.8610\n",
      "Epoch 17/20\n",
      "8000/8000 [==============================] - 0s 42us/step - loss: 0.2671 - acc: 0.9018 - val_loss: 0.4224 - val_acc: 0.8505\n",
      "Epoch 18/20\n",
      "8000/8000 [==============================] - 0s 40us/step - loss: 0.2537 - acc: 0.9064 - val_loss: 0.4885 - val_acc: 0.8230\n",
      "Epoch 19/20\n",
      "8000/8000 [==============================] - 0s 43us/step - loss: 0.2537 - acc: 0.9090 - val_loss: 0.4329 - val_acc: 0.8490\n",
      "Epoch 20/20\n",
      "8000/8000 [==============================] - 0s 51us/step - loss: 0.2420 - acc: 0.9129 - val_loss: 0.4339 - val_acc: 0.8535\n"
     ]
    }
   ],
   "source": [
    "dense_final = models.Sequential()\n",
    "dense_final.add(layers.Dense(128, activation='relu', input_shape=(28 * 28,)))\n",
    "dense_final.add(layers.Dense(64, activation='relu', input_shape=(28 * 28,)))\n",
    "dense_final.add(layers.Dense(10, activation='softmax'))\n",
    "\n",
    "dense_final.compile(optimizer='rmsprop',\n",
    "                loss='categorical_crossentropy',\n",
    "                metrics=['accuracy'])\n",
    "\n",
    "dense_final_fit = dense_final.fit(partial_img_train, \n",
    "                                  partial_label_train, \n",
    "                                  epochs=20, \n",
    "                                  batch_size=128,\n",
    "                                  validation_data=(img_val, label_val))"
   ]
  },
  {
   "cell_type": "code",
   "execution_count": 23,
   "metadata": {},
   "outputs": [
    {
     "name": "stdout",
     "output_type": "stream",
     "text": [
      "2500/2500 [==============================] - 0s 51us/step\n"
     ]
    }
   ],
   "source": [
    "results_dense_final = dense_final.evaluate(test_images, test_labels)"
   ]
  },
  {
   "cell_type": "code",
   "execution_count": 24,
   "metadata": {},
   "outputs": [
    {
     "data": {
      "text/plain": [
       "[0.5025627148628234, 0.8256]"
      ]
     },
     "execution_count": 24,
     "metadata": {},
     "output_type": "execute_result"
    }
   ],
   "source": [
    "results_dense_final"
   ]
  },
  {
   "cell_type": "markdown",
   "metadata": {},
   "source": [
    "The test set classification accuracy is about 80%. Not bad, for a 10-fold classification and a fairly small data size. Let's see if we can do better with a convolutional net!"
   ]
  },
  {
   "cell_type": "markdown",
   "metadata": {},
   "source": [
    "# 3. A convolutional network"
   ]
  },
  {
   "cell_type": "markdown",
   "metadata": {},
   "source": [
    "## 3.1 Data pre-processing"
   ]
  },
  {
   "cell_type": "markdown",
   "metadata": {},
   "source": [
    "The data needs to be pre-processed differently. Let's start again from scratch."
   ]
  },
  {
   "cell_type": "code",
   "execution_count": 25,
   "metadata": {},
   "outputs": [],
   "source": [
    "train_images, train_labels = mnist_reader.load_mnist( path = \"data_zalando/\",kind='train')\n",
    "test_images, test_labels = mnist_reader.load_mnist(path = \"data_zalando/\", kind='t10k')\n",
    "\n",
    "import random\n",
    "index_train = range(0,59999)\n",
    "index_test= range(0,9999)\n",
    "\n",
    "random.seed(1109)\n",
    "train_sample = sample(index_train,  10000)\n",
    "test_sample = sample(index_test,  2500)\n",
    "\n",
    "train_images = train_images[train_sample]\n",
    "train_labels = train_labels[train_sample]\n",
    "test_images = test_images[test_sample]\n",
    "test_labels = test_labels[test_sample]"
   ]
  },
  {
   "cell_type": "markdown",
   "metadata": {},
   "source": [
    "Where the input layer for a dense neural network is fine to be $(n\\_obs, total\\_n\\_pixels)$, we want the training in data in convolutions to be $(n\\_obs, horiz\\_pixels, vertical\\_pixels, num\\_channels)$, because convolutions operate over 3D tensors, with two spatial axes (height and width) and a depth axis (also referred to as $channels$ axis). For an RGB image, the dimension of the depth axis is 3, because of the three color channels red, green, and blue. For a black-and-white picture the depth is 1 (levels of gray). We need to reshape train_images and test_images as follows:"
   ]
  },
  {
   "cell_type": "code",
   "execution_count": 26,
   "metadata": {},
   "outputs": [],
   "source": [
    "train_images = train_images.reshape((10000, 28, 28, 1))\n",
    "test_images = test_images.reshape((2500, 28, 28, 1))"
   ]
  },
  {
   "cell_type": "markdown",
   "metadata": {},
   "source": [
    "Remember that the image data is stored in an array of shape (10000, 784) of type uint8 with values in the [0, 255] interval. To serve as input for the convolutional model, you'll need to transform it again into a float32 array of the same shape, but with values between 0 and 1 instead of 0 and 255.  "
   ]
  },
  {
   "cell_type": "code",
   "execution_count": 27,
   "metadata": {},
   "outputs": [],
   "source": [
    "test_images = test_images.astype('float32') / 255\n",
    "train_images = train_images.astype('float32') / 255"
   ]
  },
  {
   "cell_type": "markdown",
   "metadata": {},
   "source": [
    "Let's perform one-hot encoding on the labels again! You can use `to_categorical` in `keras.utils` to do this."
   ]
  },
  {
   "cell_type": "code",
   "execution_count": 28,
   "metadata": {},
   "outputs": [],
   "source": [
    "from keras.utils import to_categorical\n",
    "train_labels = to_categorical(train_labels)\n",
    "test_labels = to_categorical(test_labels)"
   ]
  },
  {
   "cell_type": "code",
   "execution_count": 29,
   "metadata": {},
   "outputs": [
    {
     "data": {
      "text/plain": [
       "array([[0., 0., 0., ..., 0., 0., 0.],\n",
       "       [0., 0., 0., ..., 0., 0., 0.],\n",
       "       [0., 0., 1., ..., 0., 0., 0.],\n",
       "       ...,\n",
       "       [0., 0., 0., ..., 0., 1., 0.],\n",
       "       [0., 1., 0., ..., 0., 0., 0.],\n",
       "       [1., 0., 0., ..., 0., 0., 0.]])"
      ]
     },
     "execution_count": 29,
     "metadata": {},
     "output_type": "execute_result"
    }
   ],
   "source": [
    "train_labels"
   ]
  },
  {
   "cell_type": "markdown",
   "metadata": {},
   "source": [
    "Again, we'll want to split the training set up in actual training data and validation data."
   ]
  },
  {
   "cell_type": "code",
   "execution_count": 30,
   "metadata": {},
   "outputs": [],
   "source": [
    "img_val = train_images[:2000]\n",
    "partial_img_train  = train_images[2000:]\n",
    "label_val = train_labels[:2000]\n",
    "partial_label_train = train_labels[2000:]"
   ]
  },
  {
   "cell_type": "markdown",
   "metadata": {},
   "source": [
    "Let's look at exactly what convolutions do. A convolution starts by sliding \"patches\" over the input. Patches are typically 3 x 3 or 5 x 5. Because of patching, the output width and height will differ from the input and depend on 2 things:\n",
    "- border effects\n",
    "- The use of strides\n"
   ]
  },
  {
   "cell_type": "markdown",
   "metadata": {},
   "source": [
    "The input shape for the first layer is (28, 28, 1), as previously discussed. For a convolutional layer, 2 additional decisions need to be made:\n",
    "- The depth of the convolutional layer, also the number of filters created by the convolution.\n",
    "- The dimensions of the so-called \"patches\" (generally 3 x 3 or 5 x 5).\n",
    "\n",
    "Using keras, this can be programmed as follows:\n",
    "`Conv2D(output_depth, (window_height, window_width))`"
   ]
  },
  {
   "cell_type": "markdown",
   "metadata": {},
   "source": [
    "## 3.2 Running the first model"
   ]
  },
  {
   "cell_type": "markdown",
   "metadata": {},
   "source": [
    "Use 3 convolutional layers (the first one with output depth 32, the latter two with output depth 64). Make sure all layers use 3x3 patches.\n",
    "\n",
    "Then, to downsample feature maps use maxpooling layers in between the convolution layers. Use the common 2 × 2 window and stride 2, in order to downsample the feature maps by a factor of 2. "
   ]
  },
  {
   "cell_type": "code",
   "execution_count": 31,
   "metadata": {},
   "outputs": [],
   "source": [
    "# A small convnet\n",
    "from keras import layers \n",
    "from keras import models\n",
    "\n",
    "conv = models.Sequential()\n",
    "conv.add(layers.Conv2D(32, (3, 3), activation='relu', input_shape=(28, 28, 1))) \n",
    "conv.add(layers.MaxPooling2D((2, 2)))\n",
    "conv.add(layers.Conv2D(64, (3, 3), activation='relu')) \n",
    "conv.add(layers.MaxPooling2D((2, 2)))\n",
    "conv.add(layers.Conv2D(64, (3, 3), activation='relu'))\n",
    "\n",
    "# you can use `padding = valid` and `padding = same`. Strides \\= 1 for convolutional layers are not very common"
   ]
  },
  {
   "cell_type": "markdown",
   "metadata": {},
   "source": [
    "When convolutional networks, generally, dense layers are added towards the end of the network. First, we need to flatten the 3D outputs to 1D, and then we can add a few dense layers. Let's add one hidden layer with 64 units and relu, and again a softmax layer towards the end of the exercise."
   ]
  },
  {
   "cell_type": "code",
   "execution_count": 32,
   "metadata": {},
   "outputs": [],
   "source": [
    "conv.add(layers.Flatten())\n",
    "conv.add(layers.Dense(64, activation='relu'))\n",
    "conv.add(layers.Dense(10, activation='softmax'))"
   ]
  },
  {
   "cell_type": "markdown",
   "metadata": {},
   "source": [
    "Note how the output layers change dimension. A summary of what exaclty is happening can be found using `.summary()`"
   ]
  },
  {
   "cell_type": "code",
   "execution_count": 33,
   "metadata": {},
   "outputs": [
    {
     "name": "stdout",
     "output_type": "stream",
     "text": [
      "_________________________________________________________________\n",
      "Layer (type)                 Output Shape              Param #   \n",
      "=================================================================\n",
      "conv2d_1 (Conv2D)            (None, 26, 26, 32)        320       \n",
      "_________________________________________________________________\n",
      "max_pooling2d_1 (MaxPooling2 (None, 13, 13, 32)        0         \n",
      "_________________________________________________________________\n",
      "conv2d_2 (Conv2D)            (None, 11, 11, 64)        18496     \n",
      "_________________________________________________________________\n",
      "max_pooling2d_2 (MaxPooling2 (None, 5, 5, 64)          0         \n",
      "_________________________________________________________________\n",
      "conv2d_3 (Conv2D)            (None, 3, 3, 64)          36928     \n",
      "_________________________________________________________________\n",
      "flatten_1 (Flatten)          (None, 576)               0         \n",
      "_________________________________________________________________\n",
      "dense_7 (Dense)              (None, 64)                36928     \n",
      "_________________________________________________________________\n",
      "dense_8 (Dense)              (None, 10)                650       \n",
      "=================================================================\n",
      "Total params: 93,322\n",
      "Trainable params: 93,322\n",
      "Non-trainable params: 0\n",
      "_________________________________________________________________\n"
     ]
    }
   ],
   "source": [
    "conv.summary()"
   ]
  },
  {
   "cell_type": "markdown",
   "metadata": {},
   "source": [
    "Let's run this model, using 30 epochs and a batch size of 64. Use both the train data and the validation data in the model."
   ]
  },
  {
   "cell_type": "code",
   "execution_count": 34,
   "metadata": {},
   "outputs": [
    {
     "name": "stdout",
     "output_type": "stream",
     "text": [
      "Train on 8000 samples, validate on 2000 samples\n",
      "Epoch 1/30\n",
      "8000/8000 [==============================] - 12s 2ms/step - loss: 0.9896 - acc: 0.6346 - val_loss: 0.6304 - val_acc: 0.7625\n",
      "Epoch 2/30\n",
      "8000/8000 [==============================] - 10s 1ms/step - loss: 0.6027 - acc: 0.7740 - val_loss: 0.5063 - val_acc: 0.8210\n",
      "Epoch 3/30\n",
      "8000/8000 [==============================] - 10s 1ms/step - loss: 0.5137 - acc: 0.8103 - val_loss: 0.4750 - val_acc: 0.8220\n",
      "Epoch 4/30\n",
      "8000/8000 [==============================] - 9s 1ms/step - loss: 0.4472 - acc: 0.8324 - val_loss: 0.4591 - val_acc: 0.8440\n",
      "Epoch 5/30\n",
      "8000/8000 [==============================] - 9s 1ms/step - loss: 0.4002 - acc: 0.8508 - val_loss: 0.4759 - val_acc: 0.8285\n",
      "Epoch 6/30\n",
      "8000/8000 [==============================] - 9s 1ms/step - loss: 0.3715 - acc: 0.8662 - val_loss: 0.4009 - val_acc: 0.8575\n",
      "Epoch 7/30\n",
      "8000/8000 [==============================] - 8s 1ms/step - loss: 0.3429 - acc: 0.8725 - val_loss: 0.3840 - val_acc: 0.8665\n",
      "Epoch 8/30\n",
      "8000/8000 [==============================] - 9s 1ms/step - loss: 0.3184 - acc: 0.8847 - val_loss: 0.4015 - val_acc: 0.8545\n",
      "Epoch 9/30\n",
      "8000/8000 [==============================] - 8s 1ms/step - loss: 0.2971 - acc: 0.8928 - val_loss: 0.3747 - val_acc: 0.8695\n",
      "Epoch 10/30\n",
      "8000/8000 [==============================] - 8s 1ms/step - loss: 0.2776 - acc: 0.8980 - val_loss: 0.3719 - val_acc: 0.8725\n",
      "Epoch 11/30\n",
      "8000/8000 [==============================] - 8s 1ms/step - loss: 0.2582 - acc: 0.9039 - val_loss: 0.3633 - val_acc: 0.8735\n",
      "Epoch 12/30\n",
      "8000/8000 [==============================] - 9s 1ms/step - loss: 0.2412 - acc: 0.9130 - val_loss: 0.3765 - val_acc: 0.8750\n",
      "Epoch 13/30\n",
      "8000/8000 [==============================] - 10s 1ms/step - loss: 0.2224 - acc: 0.9147 - val_loss: 0.4115 - val_acc: 0.8670\n",
      "Epoch 14/30\n",
      "8000/8000 [==============================] - 9s 1ms/step - loss: 0.2080 - acc: 0.9229 - val_loss: 0.3831 - val_acc: 0.8795\n",
      "Epoch 15/30\n",
      "8000/8000 [==============================] - 9s 1ms/step - loss: 0.1889 - acc: 0.9290 - val_loss: 0.3686 - val_acc: 0.8915\n",
      "Epoch 16/30\n",
      "8000/8000 [==============================] - 8s 1ms/step - loss: 0.1801 - acc: 0.9310 - val_loss: 0.4045 - val_acc: 0.8735\n",
      "Epoch 17/30\n",
      "8000/8000 [==============================] - 8s 1ms/step - loss: 0.1637 - acc: 0.9406 - val_loss: 0.3975 - val_acc: 0.8780\n",
      "Epoch 18/30\n",
      "8000/8000 [==============================] - 9s 1ms/step - loss: 0.1507 - acc: 0.9420 - val_loss: 0.3898 - val_acc: 0.8800\n",
      "Epoch 19/30\n",
      "8000/8000 [==============================] - 9s 1ms/step - loss: 0.1394 - acc: 0.9487 - val_loss: 0.4430 - val_acc: 0.8680\n",
      "Epoch 20/30\n",
      "8000/8000 [==============================] - 8s 1ms/step - loss: 0.1257 - acc: 0.9539 - val_loss: 0.4686 - val_acc: 0.8715\n",
      "Epoch 21/30\n",
      "8000/8000 [==============================] - 8s 1ms/step - loss: 0.1155 - acc: 0.9575 - val_loss: 0.4689 - val_acc: 0.8685\n",
      "Epoch 22/30\n",
      "8000/8000 [==============================] - 8s 1ms/step - loss: 0.1076 - acc: 0.9611 - val_loss: 0.4495 - val_acc: 0.8740\n",
      "Epoch 23/30\n",
      "8000/8000 [==============================] - 8s 1ms/step - loss: 0.0990 - acc: 0.9627 - val_loss: 0.4652 - val_acc: 0.8810\n",
      "Epoch 24/30\n",
      "8000/8000 [==============================] - 8s 1ms/step - loss: 0.0906 - acc: 0.9649 - val_loss: 0.4432 - val_acc: 0.8885\n",
      "Epoch 25/30\n",
      "8000/8000 [==============================] - 9s 1ms/step - loss: 0.0792 - acc: 0.9710 - val_loss: 0.5080 - val_acc: 0.8740\n",
      "Epoch 26/30\n",
      "8000/8000 [==============================] - 12s 1ms/step - loss: 0.0771 - acc: 0.9741 - val_loss: 0.5010 - val_acc: 0.8735\n",
      "Epoch 27/30\n",
      "8000/8000 [==============================] - 10s 1ms/step - loss: 0.0662 - acc: 0.9758 - val_loss: 0.5066 - val_acc: 0.8805\n",
      "Epoch 28/30\n",
      "8000/8000 [==============================] - 11s 1ms/step - loss: 0.0609 - acc: 0.9788 - val_loss: 0.5384 - val_acc: 0.8705\n",
      "Epoch 29/30\n",
      "8000/8000 [==============================] - 9s 1ms/step - loss: 0.0579 - acc: 0.9771 - val_loss: 0.5275 - val_acc: 0.8770\n",
      "Epoch 30/30\n",
      "8000/8000 [==============================] - 8s 1ms/step - loss: 0.0478 - acc: 0.9829 - val_loss: 0.5856 - val_acc: 0.8770\n"
     ]
    }
   ],
   "source": [
    "conv.compile(optimizer='rmsprop',\n",
    "              loss='categorical_crossentropy',\n",
    "              metrics=['accuracy'])\n",
    "conv_fit = conv.fit(partial_img_train, \n",
    "                      partial_label_train, \n",
    "                      epochs=30, \n",
    "                      batch_size=64,\n",
    "                      validation_data=(img_val, label_val))"
   ]
  },
  {
   "cell_type": "markdown",
   "metadata": {},
   "source": [
    "Let's plot the evolution of the training versus validation loss along the epochs again."
   ]
  },
  {
   "cell_type": "code",
   "execution_count": 35,
   "metadata": {},
   "outputs": [
    {
     "data": {
      "image/png": "[encoded data removed]",
      "text/plain": [
       "<matplotlib.figure.Figure at 0x1827482400>"
      ]
     },
     "metadata": {},
     "output_type": "display_data"
    }
   ],
   "source": [
    "plt.clf()\n",
    "hist_conv = conv_fit.history\n",
    "loss_values = hist_conv['loss']\n",
    "val_loss_values = hist_conv['val_loss']\n",
    "\n",
    "epochs = range(1, len(loss_values) + 1)\n",
    "plt.plot(epochs, loss_values, 'g.', label='Training loss')\n",
    "plt.plot(epochs, val_loss_values, 'g', label='Validation loss')\n",
    "\n",
    "plt.title('Training and validation loss')\n",
    "plt.xlabel('Epochs')\n",
    "plt.ylabel('Loss')\n",
    "plt.legend()\n",
    "plt.show()"
   ]
  },
  {
   "cell_type": "markdown",
   "metadata": {},
   "source": [
    "Let's plot the evolution of the training versus validation loss along the epochs again."
   ]
  },
  {
   "cell_type": "code",
   "execution_count": 36,
   "metadata": {},
   "outputs": [
    {
     "data": {
      "image/png": "[encoded data removed]",
      "text/plain": [
       "<matplotlib.figure.Figure at 0x18236fff28>"
      ]
     },
     "metadata": {},
     "output_type": "display_data"
    }
   ],
   "source": [
    "plt.clf()\n",
    "\n",
    "acc_values = hist_conv['acc'] \n",
    "val_acc_values = hist_conv['val_acc']\n",
    "\n",
    "plt.plot(epochs, acc_values, 'rD', label='Training acc')\n",
    "plt.plot(epochs, val_acc_values, 'r', label='Validation acc')\n",
    "plt.title('Training and validation accuracy')\n",
    "plt.xlabel('Epochs')\n",
    "plt.ylabel('Loss')\n",
    "plt.legend()\n",
    "plt.show()"
   ]
  },
  {
   "cell_type": "markdown",
   "metadata": {},
   "source": [
    "The validation accuracy and loss seem to be fairly volatile again, but as we move along the epochs, the validation loss definitely goes up. Here, seems appropriate to stop after about ~14 epochs. Let's retrain the entire model again."
   ]
  },
  {
   "cell_type": "code",
   "execution_count": 37,
   "metadata": {},
   "outputs": [
    {
     "name": "stdout",
     "output_type": "stream",
     "text": [
      "Train on 8000 samples, validate on 2000 samples\n",
      "Epoch 1/14\n",
      "8000/8000 [==============================] - 9s 1ms/step - loss: 0.9957 - acc: 0.6381 - val_loss: 0.6227 - val_acc: 0.7580\n",
      "Epoch 2/14\n",
      "8000/8000 [==============================] - 8s 1ms/step - loss: 0.6065 - acc: 0.7751 - val_loss: 0.5110 - val_acc: 0.8055\n",
      "Epoch 3/14\n",
      "8000/8000 [==============================] - 8s 1ms/step - loss: 0.5143 - acc: 0.8055 - val_loss: 0.4721 - val_acc: 0.8325\n",
      "Epoch 4/14\n",
      "8000/8000 [==============================] - 9s 1ms/step - loss: 0.4467 - acc: 0.8364 - val_loss: 0.4552 - val_acc: 0.8355\n",
      "Epoch 5/14\n",
      "8000/8000 [==============================] - 9s 1ms/step - loss: 0.4071 - acc: 0.8520 - val_loss: 0.4054 - val_acc: 0.8550\n",
      "Epoch 6/14\n",
      "8000/8000 [==============================] - 10s 1ms/step - loss: 0.3710 - acc: 0.8645 - val_loss: 0.4331 - val_acc: 0.8400\n",
      "Epoch 7/14\n",
      "8000/8000 [==============================] - 10s 1ms/step - loss: 0.3423 - acc: 0.8778 - val_loss: 0.3828 - val_acc: 0.8595\n",
      "Epoch 8/14\n",
      "8000/8000 [==============================] - 10s 1ms/step - loss: 0.3165 - acc: 0.8840 - val_loss: 0.3895 - val_acc: 0.8620\n",
      "Epoch 9/14\n",
      "8000/8000 [==============================] - 9s 1ms/step - loss: 0.2935 - acc: 0.8939 - val_loss: 0.3825 - val_acc: 0.8605\n",
      "Epoch 10/14\n",
      "8000/8000 [==============================] - 9s 1ms/step - loss: 0.2702 - acc: 0.9027 - val_loss: 0.3764 - val_acc: 0.8705\n",
      "Epoch 11/14\n",
      "8000/8000 [==============================] - 10s 1ms/step - loss: 0.2481 - acc: 0.9083 - val_loss: 0.3582 - val_acc: 0.8730\n",
      "Epoch 12/14\n",
      "8000/8000 [==============================] - 9s 1ms/step - loss: 0.2341 - acc: 0.9135 - val_loss: 0.3612 - val_acc: 0.8750\n",
      "Epoch 13/14\n",
      "8000/8000 [==============================] - 9s 1ms/step - loss: 0.2143 - acc: 0.9211 - val_loss: 0.3639 - val_acc: 0.8745\n",
      "Epoch 14/14\n",
      "8000/8000 [==============================] - 8s 1ms/step - loss: 0.1978 - acc: 0.9264 - val_loss: 0.4632 - val_acc: 0.8375\n"
     ]
    }
   ],
   "source": [
    "conv_final = models.Sequential()\n",
    "conv_final.add(layers.Conv2D(32, (3, 3), activation='relu', input_shape=(28, 28, 1))) \n",
    "conv_final.add(layers.MaxPooling2D((2, 2)))\n",
    "conv_final.add(layers.Conv2D(64, (3, 3), activation='relu')) \n",
    "conv_final.add(layers.MaxPooling2D((2, 2)))\n",
    "conv_final.add(layers.Conv2D(64, (3, 3), activation='relu'))\n",
    "\n",
    "conv_final.add(layers.Flatten())\n",
    "conv_final.add(layers.Dense(64, activation='relu'))\n",
    "conv_final.add(layers.Dense(10, activation='softmax'))\n",
    "\n",
    "conv_final.compile(optimizer='rmsprop',\n",
    "              loss='categorical_crossentropy',\n",
    "              metrics=['accuracy'])\n",
    "conv_final_fit = conv_final.fit(partial_img_train, \n",
    "                      partial_label_train, \n",
    "                      epochs=14, \n",
    "                      batch_size=64,\n",
    "                      validation_data=(img_val, label_val))"
   ]
  },
  {
   "cell_type": "code",
   "execution_count": 38,
   "metadata": {},
   "outputs": [
    {
     "name": "stdout",
     "output_type": "stream",
     "text": [
      "2500/2500 [==============================] - 1s 355us/step\n"
     ]
    }
   ],
   "source": [
    "results_conv_final = conv_final.evaluate(test_images, test_labels)"
   ]
  },
  {
   "cell_type": "code",
   "execution_count": 39,
   "metadata": {},
   "outputs": [
    {
     "data": {
      "text/plain": [
       "[0.5010738526105881, 0.8308]"
      ]
     },
     "execution_count": 39,
     "metadata": {},
     "output_type": "execute_result"
    }
   ],
   "source": [
    "results_conv_final"
   ]
  },
  {
   "cell_type": "markdown",
   "metadata": {},
   "source": [
    "The test set classification accuracy is 86.3%. Coming from 83.6 in the sequential model this is about a 3% improvement. For bigger data sets this could even be more! Let's see if we can still improve our model!"
   ]
  },
  {
   "cell_type": "markdown",
   "metadata": {},
   "source": [
    "## 3.3 Using drop-out regularization"
   ]
  },
  {
   "cell_type": "markdown",
   "metadata": {},
   "source": [
    "Note how we \"early stopping\" to fight overfitted models. Recall that there is another method, dropout regularization, to counter overfitting. Rerun our `conv` model, yet with a dropout layer right before the densely connected classifier, with parameter 0.5."
   ]
  },
  {
   "cell_type": "code",
   "execution_count": 40,
   "metadata": {},
   "outputs": [
    {
     "name": "stdout",
     "output_type": "stream",
     "text": [
      "Train on 8000 samples, validate on 2000 samples\n",
      "Epoch 1/30\n",
      "8000/8000 [==============================] - 10s 1ms/step - loss: 1.1409 - acc: 0.5790 - val_loss: 0.6595 - val_acc: 0.7515\n",
      "Epoch 2/30\n",
      "8000/8000 [==============================] - 9s 1ms/step - loss: 0.6822 - acc: 0.7434 - val_loss: 0.5341 - val_acc: 0.7975\n",
      "Epoch 3/30\n",
      "8000/8000 [==============================] - 9s 1ms/step - loss: 0.5822 - acc: 0.7810 - val_loss: 0.4841 - val_acc: 0.8205\n",
      "Epoch 4/30\n",
      "8000/8000 [==============================] - 9s 1ms/step - loss: 0.5344 - acc: 0.8009 - val_loss: 0.4611 - val_acc: 0.8330\n",
      "Epoch 5/30\n",
      "8000/8000 [==============================] - 9s 1ms/step - loss: 0.4895 - acc: 0.8176 - val_loss: 0.4568 - val_acc: 0.8345\n",
      "Epoch 6/30\n",
      "8000/8000 [==============================] - 10s 1ms/step - loss: 0.4523 - acc: 0.8330 - val_loss: 0.4098 - val_acc: 0.8520\n",
      "Epoch 7/30\n",
      "8000/8000 [==============================] - 10s 1ms/step - loss: 0.4305 - acc: 0.8417 - val_loss: 0.3842 - val_acc: 0.8650\n",
      "Epoch 8/30\n",
      "8000/8000 [==============================] - 10s 1ms/step - loss: 0.4036 - acc: 0.8535 - val_loss: 0.3901 - val_acc: 0.8630\n",
      "Epoch 9/30\n",
      "8000/8000 [==============================] - 9s 1ms/step - loss: 0.3856 - acc: 0.8586 - val_loss: 0.3753 - val_acc: 0.8640\n",
      "Epoch 10/30\n",
      "8000/8000 [==============================] - 9s 1ms/step - loss: 0.3637 - acc: 0.8699 - val_loss: 0.3658 - val_acc: 0.8680\n",
      "Epoch 11/30\n",
      "8000/8000 [==============================] - 10s 1ms/step - loss: 0.3518 - acc: 0.8655 - val_loss: 0.3456 - val_acc: 0.8795\n",
      "Epoch 12/30\n",
      "8000/8000 [==============================] - 9s 1ms/step - loss: 0.3319 - acc: 0.8768 - val_loss: 0.3458 - val_acc: 0.8780\n",
      "Epoch 13/30\n",
      "8000/8000 [==============================] - 9s 1ms/step - loss: 0.3198 - acc: 0.8852 - val_loss: 0.3308 - val_acc: 0.8810\n",
      "Epoch 14/30\n",
      "8000/8000 [==============================] - 10s 1ms/step - loss: 0.3016 - acc: 0.8895 - val_loss: 0.3489 - val_acc: 0.8745\n",
      "Epoch 15/30\n",
      "8000/8000 [==============================] - 9s 1ms/step - loss: 0.2906 - acc: 0.8915 - val_loss: 0.3773 - val_acc: 0.8665\n",
      "Epoch 16/30\n",
      "8000/8000 [==============================] - 9s 1ms/step - loss: 0.2880 - acc: 0.8950 - val_loss: 0.3267 - val_acc: 0.8840\n",
      "Epoch 17/30\n",
      "8000/8000 [==============================] - 9s 1ms/step - loss: 0.2726 - acc: 0.9020 - val_loss: 0.3441 - val_acc: 0.8810\n",
      "Epoch 18/30\n",
      "8000/8000 [==============================] - 9s 1ms/step - loss: 0.2735 - acc: 0.8951 - val_loss: 0.3184 - val_acc: 0.8860\n",
      "Epoch 19/30\n",
      "8000/8000 [==============================] - 10s 1ms/step - loss: 0.2593 - acc: 0.9041 - val_loss: 0.3513 - val_acc: 0.8790\n",
      "Epoch 20/30\n",
      "8000/8000 [==============================] - 10s 1ms/step - loss: 0.2432 - acc: 0.9139 - val_loss: 0.3407 - val_acc: 0.8835\n",
      "Epoch 21/30\n",
      "8000/8000 [==============================] - 10s 1ms/step - loss: 0.2336 - acc: 0.9131 - val_loss: 0.3453 - val_acc: 0.8845\n",
      "Epoch 22/30\n",
      "8000/8000 [==============================] - 10s 1ms/step - loss: 0.2253 - acc: 0.9167 - val_loss: 0.3317 - val_acc: 0.8860\n",
      "Epoch 23/30\n",
      "8000/8000 [==============================] - 9s 1ms/step - loss: 0.2168 - acc: 0.9205 - val_loss: 0.3329 - val_acc: 0.8875\n",
      "Epoch 24/30\n",
      "8000/8000 [==============================] - 9s 1ms/step - loss: 0.2192 - acc: 0.9200 - val_loss: 0.3325 - val_acc: 0.8845\n",
      "Epoch 25/30\n",
      "8000/8000 [==============================] - 10s 1ms/step - loss: 0.2041 - acc: 0.9241 - val_loss: 0.3436 - val_acc: 0.8855\n",
      "Epoch 26/30\n",
      "8000/8000 [==============================] - 9s 1ms/step - loss: 0.2045 - acc: 0.9263 - val_loss: 0.3460 - val_acc: 0.8860\n",
      "Epoch 27/30\n",
      "8000/8000 [==============================] - 9s 1ms/step - loss: 0.1939 - acc: 0.9293 - val_loss: 0.3346 - val_acc: 0.8855\n",
      "Epoch 28/30\n",
      "8000/8000 [==============================] - 9s 1ms/step - loss: 0.1949 - acc: 0.9276 - val_loss: 0.3506 - val_acc: 0.8835\n",
      "Epoch 29/30\n",
      "8000/8000 [==============================] - 9s 1ms/step - loss: 0.1858 - acc: 0.9330 - val_loss: 0.3662 - val_acc: 0.8825\n",
      "Epoch 30/30\n",
      "8000/8000 [==============================] - 9s 1ms/step - loss: 0.1758 - acc: 0.9355 - val_loss: 0.3290 - val_acc: 0.8870\n"
     ]
    }
   ],
   "source": [
    "conv_drop = models.Sequential()\n",
    "conv_drop.add(layers.Conv2D(32, (3, 3), activation='relu', input_shape=(28, 28, 1))) \n",
    "conv_drop.add(layers.MaxPooling2D((2, 2)))\n",
    "conv_drop.add(layers.Conv2D(64, (3, 3), activation='relu')) \n",
    "conv_drop.add(layers.MaxPooling2D((2, 2)))\n",
    "conv_drop.add(layers.Conv2D(64, (3, 3), activation='relu'))\n",
    "\n",
    "conv_drop.add(layers.Flatten())\n",
    "conv_drop.add(layers.Dropout(0.5))\n",
    "conv_drop.add(layers.Dense(64, activation='relu'))\n",
    "conv_drop.add(layers.Dense(10, activation='softmax'))\n",
    "\n",
    "conv_drop.compile(optimizer='rmsprop',\n",
    "              loss='categorical_crossentropy',\n",
    "              metrics=['accuracy'])\n",
    "conv_drop_fit = conv_drop.fit(partial_img_train, \n",
    "                      partial_label_train, \n",
    "                      epochs=30, \n",
    "                      batch_size=64,\n",
    "                      validation_data=(img_val, label_val))"
   ]
  },
  {
   "cell_type": "code",
   "execution_count": 41,
   "metadata": {},
   "outputs": [
    {
     "data": {
      "image/png": "[encoded data removed]",
      "text/plain": [
       "<matplotlib.figure.Figure at 0x18274724e0>"
      ]
     },
     "metadata": {},
     "output_type": "display_data"
    }
   ],
   "source": [
    "plt.clf()\n",
    "hist_conv_drop = conv_drop_fit.history\n",
    "loss_values = hist_conv_drop['loss']\n",
    "val_loss_values = hist_conv_drop['val_loss']\n",
    "\n",
    "epochs = range(1, len(loss_values) + 1)\n",
    "plt.plot(epochs, loss_values, 'gD', label='Training loss')\n",
    "plt.plot(epochs, val_loss_values, 'g', label='Validation loss')\n",
    "\n",
    "plt.title('Training and validation loss')\n",
    "plt.xlabel('Epochs')\n",
    "plt.ylabel('Loss')\n",
    "plt.legend()\n",
    "plt.show()"
   ]
  },
  {
   "cell_type": "code",
   "execution_count": 42,
   "metadata": {},
   "outputs": [
    {
     "data": {
      "image/png": "[encoded data removed]",
      "text/plain": [
       "<matplotlib.figure.Figure at 0x1821acdb70>"
      ]
     },
     "metadata": {},
     "output_type": "display_data"
    }
   ],
   "source": [
    "plt.clf()\n",
    "\n",
    "acc_values = hist_conv_drop['acc'] \n",
    "val_acc_values = hist_conv_drop['val_acc']\n",
    "\n",
    "plt.plot(epochs, acc_values, 'rD', label='Training acc')\n",
    "plt.plot(epochs, val_acc_values, 'r', label='Validation acc')\n",
    "plt.title('Training and validation accuracy')\n",
    "plt.xlabel('Epochs')\n",
    "plt.ylabel('Loss')\n",
    "plt.legend()\n",
    "plt.show()"
   ]
  },
  {
   "cell_type": "markdown",
   "metadata": {},
   "source": [
    "Note how the dropout regularization made the curves much smoother! Additionally, the respective accuracies and losses don't diverge to the extent they did before. Let's stop after 20 epochs."
   ]
  },
  {
   "cell_type": "code",
   "execution_count": 43,
   "metadata": {},
   "outputs": [
    {
     "name": "stdout",
     "output_type": "stream",
     "text": [
      "Train on 8000 samples, validate on 2000 samples\n",
      "Epoch 1/20\n",
      "8000/8000 [==============================] - 9s 1ms/step - loss: 1.1092 - acc: 0.5890 - val_loss: 0.6542 - val_acc: 0.7570\n",
      "Epoch 2/20\n",
      "8000/8000 [==============================] - 9s 1ms/step - loss: 0.6869 - acc: 0.7384 - val_loss: 0.5358 - val_acc: 0.7995\n",
      "Epoch 3/20\n",
      "8000/8000 [==============================] - 9s 1ms/step - loss: 0.5848 - acc: 0.7785 - val_loss: 0.4774 - val_acc: 0.8255\n",
      "Epoch 4/20\n",
      "8000/8000 [==============================] - 9s 1ms/step - loss: 0.5248 - acc: 0.8016 - val_loss: 0.4718 - val_acc: 0.8325\n",
      "Epoch 5/20\n",
      "8000/8000 [==============================] - 9s 1ms/step - loss: 0.4824 - acc: 0.8194 - val_loss: 0.4279 - val_acc: 0.8495\n",
      "Epoch 6/20\n",
      "8000/8000 [==============================] - 9s 1ms/step - loss: 0.4498 - acc: 0.8377 - val_loss: 0.4007 - val_acc: 0.8610\n",
      "Epoch 7/20\n",
      "8000/8000 [==============================] - 9s 1ms/step - loss: 0.4200 - acc: 0.8430 - val_loss: 0.3839 - val_acc: 0.8650\n",
      "Epoch 8/20\n",
      "8000/8000 [==============================] - 9s 1ms/step - loss: 0.4003 - acc: 0.8538 - val_loss: 0.3950 - val_acc: 0.8560\n",
      "Epoch 9/20\n",
      "8000/8000 [==============================] - 9s 1ms/step - loss: 0.3836 - acc: 0.8594 - val_loss: 0.3612 - val_acc: 0.8740\n",
      "Epoch 10/20\n",
      "8000/8000 [==============================] - 9s 1ms/step - loss: 0.3662 - acc: 0.8660 - val_loss: 0.3649 - val_acc: 0.8705\n",
      "Epoch 11/20\n",
      "8000/8000 [==============================] - 9s 1ms/step - loss: 0.3486 - acc: 0.8711 - val_loss: 0.4266 - val_acc: 0.8545\n",
      "Epoch 12/20\n",
      "8000/8000 [==============================] - 9s 1ms/step - loss: 0.3385 - acc: 0.8744 - val_loss: 0.3366 - val_acc: 0.8815\n",
      "Epoch 13/20\n",
      "8000/8000 [==============================] - 9s 1ms/step - loss: 0.3237 - acc: 0.8812 - val_loss: 0.3659 - val_acc: 0.8665\n",
      "Epoch 14/20\n",
      "8000/8000 [==============================] - 9s 1ms/step - loss: 0.3035 - acc: 0.8919 - val_loss: 0.3315 - val_acc: 0.8860\n",
      "Epoch 15/20\n",
      "8000/8000 [==============================] - 9s 1ms/step - loss: 0.2926 - acc: 0.8941 - val_loss: 0.3370 - val_acc: 0.8735\n",
      "Epoch 16/20\n",
      "8000/8000 [==============================] - 9s 1ms/step - loss: 0.2849 - acc: 0.8932 - val_loss: 0.3196 - val_acc: 0.8915\n",
      "Epoch 17/20\n",
      "8000/8000 [==============================] - 9s 1ms/step - loss: 0.2687 - acc: 0.9029 - val_loss: 0.3236 - val_acc: 0.8850\n",
      "Epoch 18/20\n",
      "8000/8000 [==============================] - 9s 1ms/step - loss: 0.2608 - acc: 0.9061 - val_loss: 0.3255 - val_acc: 0.8875\n",
      "Epoch 19/20\n",
      "8000/8000 [==============================] - 9s 1ms/step - loss: 0.2558 - acc: 0.9095 - val_loss: 0.3359 - val_acc: 0.8825\n",
      "Epoch 20/20\n",
      "8000/8000 [==============================] - 9s 1ms/step - loss: 0.2475 - acc: 0.9086 - val_loss: 0.3351 - val_acc: 0.8895\n"
     ]
    }
   ],
   "source": [
    "conv_drop_final = models.Sequential()\n",
    "conv_drop_final.add(layers.Conv2D(32, (3, 3), activation='relu', input_shape=(28, 28, 1))) \n",
    "conv_drop_final.add(layers.MaxPooling2D((2, 2)))\n",
    "conv_drop_final.add(layers.Conv2D(64, (3, 3), activation='relu')) \n",
    "conv_drop_final.add(layers.MaxPooling2D((2, 2)))\n",
    "conv_drop_final.add(layers.Conv2D(64, (3, 3), activation='relu'))\n",
    "\n",
    "conv_drop_final.add(layers.Flatten())\n",
    "conv_drop_final.add(layers.Dropout(0.5))\n",
    "conv_drop_final.add(layers.Dense(64, activation='relu'))\n",
    "conv_drop_final.add(layers.Dense(10, activation='softmax'))\n",
    "\n",
    "conv_drop_final.compile(optimizer='rmsprop',\n",
    "              loss='categorical_crossentropy',\n",
    "              metrics=['accuracy'])\n",
    "conv_drop_final_fit = conv_drop_final.fit(partial_img_train, \n",
    "                      partial_label_train, \n",
    "                      epochs=20, \n",
    "                      batch_size=64,\n",
    "                      validation_data=(img_val, label_val))"
   ]
  },
  {
   "cell_type": "code",
   "execution_count": 44,
   "metadata": {},
   "outputs": [
    {
     "name": "stdout",
     "output_type": "stream",
     "text": [
      "2500/2500 [==============================] - 1s 335us/step\n"
     ]
    }
   ],
   "source": [
    "results = conv_drop_final.evaluate(test_images, test_labels)"
   ]
  },
  {
   "cell_type": "code",
   "execution_count": 45,
   "metadata": {},
   "outputs": [
    {
     "data": {
      "text/plain": [
       "[0.3697879765033722, 0.8772]"
      ]
     },
     "execution_count": 45,
     "metadata": {},
     "output_type": "execute_result"
    }
   ],
   "source": [
    "results"
   ]
  },
  {
   "cell_type": "markdown",
   "metadata": {},
   "source": [
    "Look at this! You were able to increase the test set accuracy by almost 1% (being 86.3% for the model without dropout regularization)."
   ]
  },
  {
   "cell_type": "markdown",
   "metadata": {},
   "source": [
    "## 3.4 Making predictions"
   ]
  },
  {
   "cell_type": "code",
   "execution_count": 46,
   "metadata": {},
   "outputs": [],
   "source": [
    "predictions = conv_drop_final.predict(test_images)\n",
    "index_test = 2"
   ]
  },
  {
   "cell_type": "code",
   "execution_count": 47,
   "metadata": {},
   "outputs": [
    {
     "data": {
      "text/plain": [
       "array([1.6703776e-03, 4.4905173e-04, 1.1980664e-04, 9.7992730e-01,\n",
       "       1.3026144e-02, 3.7134825e-07, 4.7840574e-03, 6.7047727e-06,\n",
       "       9.5350024e-06, 6.7378478e-06], dtype=float32)"
      ]
     },
     "execution_count": 47,
     "metadata": {},
     "output_type": "execute_result"
    }
   ],
   "source": [
    "predictions[index_test]"
   ]
  },
  {
   "cell_type": "code",
   "execution_count": 48,
   "metadata": {},
   "outputs": [
    {
     "data": {
      "text/plain": [
       "array([0., 0., 0., 0., 1., 0., 0., 0., 0., 0.])"
      ]
     },
     "execution_count": 48,
     "metadata": {},
     "output_type": "execute_result"
    }
   ],
   "source": [
    "test_labels[index_test]"
   ]
  },
  {
   "cell_type": "code",
   "execution_count": 49,
   "metadata": {},
   "outputs": [
    {
     "data": {
      "image/png": "[encoded data removed]",
      "text/plain": [
       "<matplotlib.figure.Figure at 0x1822a902e8>"
      ]
     },
     "metadata": {},
     "output_type": "display_data"
    },
    {
     "data": {
      "text/plain": [
       "'Coat'"
      ]
     },
     "execution_count": 49,
     "metadata": {},
     "output_type": "execute_result"
    }
   ],
   "source": [
    "reshape= np.matrix.reshape(test_images[index_test],28,28)\n",
    "\n",
    "%matplotlib inline\n",
    "import matplotlib.pyplot as plt\n",
    "plt.imshow(reshape, cmap=plt.cm.binary)\n",
    "plt.show()\n",
    "\n",
    "encoded_test[index_test]"
   ]
  },
  {
   "cell_type": "markdown",
   "metadata": {},
   "source": [
    "This coat is incorrectly classified as a dress! Not really surprising, looking at it, right?"
   ]
  },
  {
   "cell_type": "markdown",
   "metadata": {},
   "source": [
    "## 3.5 Try tweaking the model yourself!"
   ]
  },
  {
   "cell_type": "markdown",
   "metadata": {},
   "source": [
    "The possibilities are literally endless!\n",
    "- add/remove layers\n",
    "- In some layers, change `padding = valid` and `padding = same`\n",
    "- change activation functions\n",
    "- change optimizer\n",
    "- change batch size\n",
    "- change patch dimensions (from 3 x 3 to 5 x 5)\n",
    "- If you have more time, try running everything on the bigger training set! Do results improve?"
   ]
  },
  {
   "cell_type": "markdown",
   "metadata": {},
   "source": [
    "## 3.6 Visualizations (WIP, maybe)"
   ]
  },
  {
   "cell_type": "code",
   "execution_count": 50,
   "metadata": {},
   "outputs": [
    {
     "data": {
      "image/png": "[encoded data removed]",
      "text/plain": [
       "<matplotlib.figure.Figure at 0x182be4b5c0>"
      ]
     },
     "metadata": {},
     "output_type": "display_data"
    },
    {
     "data": {
      "text/plain": [
       "'Shirt'"
      ]
     },
     "execution_count": 50,
     "metadata": {},
     "output_type": "execute_result"
    }
   ],
   "source": [
    "index_fill = 1219 # replace by any value between 0 and 9999\n",
    "\n",
    "reshape= np.matrix.reshape(train_images[index_fill],28,28)\n",
    "\n",
    "%matplotlib inline\n",
    "import matplotlib.pyplot as plt\n",
    "plt.imshow(reshape, cmap=plt.cm.binary)\n",
    "plt.show()\n",
    "\n",
    "encoded_train[index_fill]"
   ]
  },
  {
   "cell_type": "code",
   "execution_count": 51,
   "metadata": {},
   "outputs": [],
   "source": [
    "from keras import models\n",
    "layer_outputs = [layer.output for layer in conv_final.layers[:8]] \n",
    "activation_model = models.Model(inputs=conv_final.input, outputs=layer_outputs)"
   ]
  },
  {
   "cell_type": "code",
   "execution_count": 52,
   "metadata": {},
   "outputs": [],
   "source": [
    "interm_tensor = np.expand_dims(train_images[index_test], axis=0) \n",
    "interm_tensor /= 255"
   ]
  },
  {
   "cell_type": "code",
   "execution_count": 53,
   "metadata": {},
   "outputs": [
    {
     "data": {
      "text/plain": [
       "array([[[[0.0000000e+00],\n",
       "         [0.0000000e+00],\n",
       "         [0.0000000e+00],\n",
       "         [0.0000000e+00],\n",
       "         [0.0000000e+00],\n",
       "         [0.0000000e+00],\n",
       "         [0.0000000e+00],\n",
       "         [0.0000000e+00],\n",
       "         [1.4302192e-03],\n",
       "         [3.2141483e-03],\n",
       "         [3.0449827e-03],\n",
       "         [2.9527105e-03],\n",
       "         [3.1064975e-03],\n",
       "         [3.0296040e-03],\n",
       "         [3.0757401e-03],\n",
       "         [3.1987696e-03],\n",
       "         [3.1833909e-03],\n",
       "         [3.2602844e-03],\n",
       "         [3.3064208e-03],\n",
       "         [8.1507111e-04],\n",
       "         [0.0000000e+00],\n",
       "         [0.0000000e+00],\n",
       "         [0.0000000e+00],\n",
       "         [0.0000000e+00],\n",
       "         [0.0000000e+00],\n",
       "         [0.0000000e+00],\n",
       "         [0.0000000e+00],\n",
       "         [0.0000000e+00]],\n",
       "\n",
       "        [[0.0000000e+00],\n",
       "         [0.0000000e+00],\n",
       "         [0.0000000e+00],\n",
       "         [0.0000000e+00],\n",
       "         [0.0000000e+00],\n",
       "         [0.0000000e+00],\n",
       "         [0.0000000e+00],\n",
       "         [0.0000000e+00],\n",
       "         [3.1218762e-03],\n",
       "         [3.7062669e-03],\n",
       "         [3.5524799e-03],\n",
       "         [3.7062669e-03],\n",
       "         [3.2295270e-03],\n",
       "         [3.0911188e-03],\n",
       "         [3.0142253e-03],\n",
       "         [3.0296040e-03],\n",
       "         [3.4140716e-03],\n",
       "         [3.3525568e-03],\n",
       "         [3.6293734e-03],\n",
       "         [3.6601308e-03],\n",
       "         [0.0000000e+00],\n",
       "         [0.0000000e+00],\n",
       "         [1.5378702e-05],\n",
       "         [3.0757405e-05],\n",
       "         [0.0000000e+00],\n",
       "         [0.0000000e+00],\n",
       "         [0.0000000e+00],\n",
       "         [0.0000000e+00]],\n",
       "\n",
       "        [[0.0000000e+00],\n",
       "         [0.0000000e+00],\n",
       "         [0.0000000e+00],\n",
       "         [0.0000000e+00],\n",
       "         [0.0000000e+00],\n",
       "         [0.0000000e+00],\n",
       "         [0.0000000e+00],\n",
       "         [0.0000000e+00],\n",
       "         [2.8450596e-03],\n",
       "         [3.3679355e-03],\n",
       "         [3.1987696e-03],\n",
       "         [3.6908882e-03],\n",
       "         [3.7677817e-03],\n",
       "         [3.6139947e-03],\n",
       "         [3.4909651e-03],\n",
       "         [3.4448290e-03],\n",
       "         [3.1833909e-03],\n",
       "         [3.1987696e-03],\n",
       "         [3.2910421e-03],\n",
       "         [3.0449827e-03],\n",
       "         [0.0000000e+00],\n",
       "         [0.0000000e+00],\n",
       "         [3.0757405e-05],\n",
       "         [0.0000000e+00],\n",
       "         [0.0000000e+00],\n",
       "         [0.0000000e+00],\n",
       "         [0.0000000e+00],\n",
       "         [0.0000000e+00]],\n",
       "\n",
       "        [[0.0000000e+00],\n",
       "         [0.0000000e+00],\n",
       "         [0.0000000e+00],\n",
       "         [0.0000000e+00],\n",
       "         [0.0000000e+00],\n",
       "         [0.0000000e+00],\n",
       "         [0.0000000e+00],\n",
       "         [5.8439065e-04],\n",
       "         [3.2756634e-03],\n",
       "         [3.5371012e-03],\n",
       "         [3.3371781e-03],\n",
       "         [2.8604383e-03],\n",
       "         [3.7677817e-03],\n",
       "         [3.8446751e-03],\n",
       "         [3.7677817e-03],\n",
       "         [3.3986929e-03],\n",
       "         [2.9834679e-03],\n",
       "         [3.2910421e-03],\n",
       "         [3.2449057e-03],\n",
       "         [3.3217994e-03],\n",
       "         [1.7531719e-03],\n",
       "         [0.0000000e+00],\n",
       "         [0.0000000e+00],\n",
       "         [4.6136101e-05],\n",
       "         [1.5378702e-05],\n",
       "         [0.0000000e+00],\n",
       "         [0.0000000e+00],\n",
       "         [0.0000000e+00]],\n",
       "\n",
       "        [[0.0000000e+00],\n",
       "         [0.0000000e+00],\n",
       "         [0.0000000e+00],\n",
       "         [0.0000000e+00],\n",
       "         [7.6893506e-05],\n",
       "         [0.0000000e+00],\n",
       "         [2.1530181e-04],\n",
       "         [3.1218762e-03],\n",
       "         [3.0449827e-03],\n",
       "         [3.0757401e-03],\n",
       "         [3.0296040e-03],\n",
       "         [2.5990005e-03],\n",
       "         [3.5217225e-03],\n",
       "         [3.0142253e-03],\n",
       "         [3.0911188e-03],\n",
       "         [2.8911957e-03],\n",
       "         [2.6451366e-03],\n",
       "         [3.2602844e-03],\n",
       "         [3.0296040e-03],\n",
       "         [2.9988466e-03],\n",
       "         [3.4755864e-03],\n",
       "         [1.7531719e-03],\n",
       "         [0.0000000e+00],\n",
       "         [9.2272203e-05],\n",
       "         [0.0000000e+00],\n",
       "         [0.0000000e+00],\n",
       "         [0.0000000e+00],\n",
       "         [0.0000000e+00]],\n",
       "\n",
       "        [[0.0000000e+00],\n",
       "         [0.0000000e+00],\n",
       "         [0.0000000e+00],\n",
       "         [0.0000000e+00],\n",
       "         [9.2272203e-05],\n",
       "         [0.0000000e+00],\n",
       "         [2.6143792e-03],\n",
       "         [3.2910421e-03],\n",
       "         [2.9527105e-03],\n",
       "         [3.0449827e-03],\n",
       "         [2.7681661e-03],\n",
       "         [2.2606691e-03],\n",
       "         [3.0603614e-03],\n",
       "         [2.7527874e-03],\n",
       "         [3.1064975e-03],\n",
       "         [2.7374087e-03],\n",
       "         [2.2914265e-03],\n",
       "         [3.2141483e-03],\n",
       "         [2.9527105e-03],\n",
       "         [2.9988466e-03],\n",
       "         [3.1218762e-03],\n",
       "         [3.0757401e-03],\n",
       "         [0.0000000e+00],\n",
       "         [0.0000000e+00],\n",
       "         [3.0757405e-05],\n",
       "         [0.0000000e+00],\n",
       "         [0.0000000e+00],\n",
       "         [0.0000000e+00]],\n",
       "\n",
       "        [[0.0000000e+00],\n",
       "         [0.0000000e+00],\n",
       "         [0.0000000e+00],\n",
       "         [3.0757405e-05],\n",
       "         [0.0000000e+00],\n",
       "         [0.0000000e+00],\n",
       "         [3.0757401e-03],\n",
       "         [3.2141483e-03],\n",
       "         [3.0296040e-03],\n",
       "         [3.0296040e-03],\n",
       "         [2.8758170e-03],\n",
       "         [2.4144561e-03],\n",
       "         [3.1526336e-03],\n",
       "         [2.8296809e-03],\n",
       "         [3.0757401e-03],\n",
       "         [2.7066513e-03],\n",
       "         [2.1530183e-03],\n",
       "         [3.2449057e-03],\n",
       "         [2.8911957e-03],\n",
       "         [2.9988466e-03],\n",
       "         [3.2910421e-03],\n",
       "         [3.4448290e-03],\n",
       "         [1.3840831e-03],\n",
       "         [0.0000000e+00],\n",
       "         [0.0000000e+00],\n",
       "         [0.0000000e+00],\n",
       "         [0.0000000e+00],\n",
       "         [0.0000000e+00]],\n",
       "\n",
       "        [[0.0000000e+00],\n",
       "         [0.0000000e+00],\n",
       "         [0.0000000e+00],\n",
       "         [3.0757405e-05],\n",
       "         [0.0000000e+00],\n",
       "         [7.0742023e-04],\n",
       "         [3.3679355e-03],\n",
       "         [3.1680122e-03],\n",
       "         [3.0449827e-03],\n",
       "         [3.0603614e-03],\n",
       "         [2.8450596e-03],\n",
       "         [2.4298348e-03],\n",
       "         [3.0603614e-03],\n",
       "         [2.7835448e-03],\n",
       "         [3.0296040e-03],\n",
       "         [2.7220300e-03],\n",
       "         [2.0915035e-03],\n",
       "         [3.2141483e-03],\n",
       "         [2.8604383e-03],\n",
       "         [2.9834679e-03],\n",
       "         [3.3525568e-03],\n",
       "         [3.3371781e-03],\n",
       "         [2.3068052e-03],\n",
       "         [0.0000000e+00],\n",
       "         [0.0000000e+00],\n",
       "         [0.0000000e+00],\n",
       "         [0.0000000e+00],\n",
       "         [0.0000000e+00]],\n",
       "\n",
       "        [[0.0000000e+00],\n",
       "         [0.0000000e+00],\n",
       "         [0.0000000e+00],\n",
       "         [0.0000000e+00],\n",
       "         [0.0000000e+00],\n",
       "         [2.1222609e-03],\n",
       "         [3.4755864e-03],\n",
       "         [3.0911188e-03],\n",
       "         [3.0296040e-03],\n",
       "         [3.0603614e-03],\n",
       "         [2.9834679e-03],\n",
       "         [2.5682431e-03],\n",
       "         [3.1680122e-03],\n",
       "         [2.8758170e-03],\n",
       "         [3.1526336e-03],\n",
       "         [2.7527874e-03],\n",
       "         [2.0915035e-03],\n",
       "         [3.2756634e-03],\n",
       "         [2.8758170e-03],\n",
       "         [3.0603614e-03],\n",
       "         [3.2910421e-03],\n",
       "         [3.3217994e-03],\n",
       "         [2.9219531e-03],\n",
       "         [0.0000000e+00],\n",
       "         [0.0000000e+00],\n",
       "         [0.0000000e+00],\n",
       "         [0.0000000e+00],\n",
       "         [0.0000000e+00]],\n",
       "\n",
       "        [[0.0000000e+00],\n",
       "         [0.0000000e+00],\n",
       "         [0.0000000e+00],\n",
       "         [0.0000000e+00],\n",
       "         [0.0000000e+00],\n",
       "         [2.5067283e-03],\n",
       "         [3.4448290e-03],\n",
       "         [3.2295270e-03],\n",
       "         [3.1680122e-03],\n",
       "         [3.3064208e-03],\n",
       "         [3.0911188e-03],\n",
       "         [2.4913496e-03],\n",
       "         [3.5524799e-03],\n",
       "         [3.0142253e-03],\n",
       "         [3.3064208e-03],\n",
       "         [2.9680892e-03],\n",
       "         [2.1530183e-03],\n",
       "         [3.6139947e-03],\n",
       "         [3.0757401e-03],\n",
       "         [2.9527105e-03],\n",
       "         [3.2756634e-03],\n",
       "         [3.3217994e-03],\n",
       "         [3.3371781e-03],\n",
       "         [2.7681663e-04],\n",
       "         [0.0000000e+00],\n",
       "         [0.0000000e+00],\n",
       "         [0.0000000e+00],\n",
       "         [0.0000000e+00]],\n",
       "\n",
       "        [[0.0000000e+00],\n",
       "         [0.0000000e+00],\n",
       "         [0.0000000e+00],\n",
       "         [0.0000000e+00],\n",
       "         [0.0000000e+00],\n",
       "         [3.0296040e-03],\n",
       "         [3.3525568e-03],\n",
       "         [3.2756634e-03],\n",
       "         [3.0757401e-03],\n",
       "         [3.3064208e-03],\n",
       "         [2.8450596e-03],\n",
       "         [2.4298348e-03],\n",
       "         [3.5371012e-03],\n",
       "         [3.1218762e-03],\n",
       "         [3.2141483e-03],\n",
       "         [3.3217994e-03],\n",
       "         [1.9069589e-03],\n",
       "         [3.6293734e-03],\n",
       "         [3.2756634e-03],\n",
       "         [3.0296040e-03],\n",
       "         [3.3371781e-03],\n",
       "         [3.3833142e-03],\n",
       "         [3.5217225e-03],\n",
       "         [1.3225683e-03],\n",
       "         [0.0000000e+00],\n",
       "         [0.0000000e+00],\n",
       "         [0.0000000e+00],\n",
       "         [0.0000000e+00]],\n",
       "\n",
       "        [[0.0000000e+00],\n",
       "         [0.0000000e+00],\n",
       "         [0.0000000e+00],\n",
       "         [0.0000000e+00],\n",
       "         [4.4598232e-04],\n",
       "         [3.3064208e-03],\n",
       "         [3.2910421e-03],\n",
       "         [3.3217994e-03],\n",
       "         [3.1680122e-03],\n",
       "         [3.2756634e-03],\n",
       "         [3.1680122e-03],\n",
       "         [3.1833909e-03],\n",
       "         [3.3064208e-03],\n",
       "         [3.2141483e-03],\n",
       "         [3.1987696e-03],\n",
       "         [3.3833142e-03],\n",
       "         [1.9838526e-03],\n",
       "         [3.4755864e-03],\n",
       "         [3.2602844e-03],\n",
       "         [3.2449057e-03],\n",
       "         [3.4755864e-03],\n",
       "         [3.4448290e-03],\n",
       "         [3.6139947e-03],\n",
       "         [2.0607461e-03],\n",
       "         [0.0000000e+00],\n",
       "         [0.0000000e+00],\n",
       "         [0.0000000e+00],\n",
       "         [0.0000000e+00]],\n",
       "\n",
       "        [[0.0000000e+00],\n",
       "         [0.0000000e+00],\n",
       "         [0.0000000e+00],\n",
       "         [0.0000000e+00],\n",
       "         [1.3687044e-03],\n",
       "         [3.4140716e-03],\n",
       "         [3.2756634e-03],\n",
       "         [3.3679355e-03],\n",
       "         [3.2449057e-03],\n",
       "         [3.2910421e-03],\n",
       "         [3.2141483e-03],\n",
       "         [3.3371781e-03],\n",
       "         [3.2295270e-03],\n",
       "         [3.1833909e-03],\n",
       "         [3.2141483e-03],\n",
       "         [3.3679355e-03],\n",
       "         [2.6143792e-03],\n",
       "         [3.3833142e-03],\n",
       "         [3.1987696e-03],\n",
       "         [3.4140716e-03],\n",
       "         [3.6139947e-03],\n",
       "         [3.4140716e-03],\n",
       "         [3.6908882e-03],\n",
       "         [2.5990005e-03],\n",
       "         [0.0000000e+00],\n",
       "         [0.0000000e+00],\n",
       "         [0.0000000e+00],\n",
       "         [0.0000000e+00]],\n",
       "\n",
       "        [[0.0000000e+00],\n",
       "         [0.0000000e+00],\n",
       "         [0.0000000e+00],\n",
       "         [0.0000000e+00],\n",
       "         [2.0607461e-03],\n",
       "         [3.4140716e-03],\n",
       "         [3.3064208e-03],\n",
       "         [3.3833142e-03],\n",
       "         [3.2449057e-03],\n",
       "         [3.3525568e-03],\n",
       "         [3.1833909e-03],\n",
       "         [3.3064208e-03],\n",
       "         [3.2295270e-03],\n",
       "         [3.2141483e-03],\n",
       "         [3.2295270e-03],\n",
       "         [3.2756634e-03],\n",
       "         [3.3833142e-03],\n",
       "         [3.2602844e-03],\n",
       "         [3.1218762e-03],\n",
       "         [3.4140716e-03],\n",
       "         [3.5986160e-03],\n",
       "         [3.4909651e-03],\n",
       "         [3.6755095e-03],\n",
       "         [3.1987696e-03],\n",
       "         [0.0000000e+00],\n",
       "         [0.0000000e+00],\n",
       "         [0.0000000e+00],\n",
       "         [0.0000000e+00]],\n",
       "\n",
       "        [[0.0000000e+00],\n",
       "         [0.0000000e+00],\n",
       "         [0.0000000e+00],\n",
       "         [0.0000000e+00],\n",
       "         [2.8296809e-03],\n",
       "         [3.3679355e-03],\n",
       "         [3.3371781e-03],\n",
       "         [3.4909651e-03],\n",
       "         [3.2602844e-03],\n",
       "         [3.2910421e-03],\n",
       "         [3.1987696e-03],\n",
       "         [3.3217994e-03],\n",
       "         [3.2295270e-03],\n",
       "         [3.2602844e-03],\n",
       "         [3.2910421e-03],\n",
       "         [3.2449057e-03],\n",
       "         [3.2449057e-03],\n",
       "         [3.3217994e-03],\n",
       "         [3.1064975e-03],\n",
       "         [3.2910421e-03],\n",
       "         [3.3986929e-03],\n",
       "         [3.6139947e-03],\n",
       "         [3.6601308e-03],\n",
       "         [3.5217225e-03],\n",
       "         [0.0000000e+00],\n",
       "         [0.0000000e+00],\n",
       "         [0.0000000e+00],\n",
       "         [0.0000000e+00]],\n",
       "\n",
       "        [[0.0000000e+00],\n",
       "         [0.0000000e+00],\n",
       "         [0.0000000e+00],\n",
       "         [0.0000000e+00],\n",
       "         [3.3371781e-03],\n",
       "         [3.3371781e-03],\n",
       "         [3.3986929e-03],\n",
       "         [3.5832373e-03],\n",
       "         [3.2756634e-03],\n",
       "         [3.2449057e-03],\n",
       "         [3.1680122e-03],\n",
       "         [3.3371781e-03],\n",
       "         [3.2756634e-03],\n",
       "         [3.2449057e-03],\n",
       "         [3.2295270e-03],\n",
       "         [3.2449057e-03],\n",
       "         [3.2602844e-03],\n",
       "         [3.4448290e-03],\n",
       "         [3.0911188e-03],\n",
       "         [3.3217994e-03],\n",
       "         [3.3679355e-03],\n",
       "         [3.6601308e-03],\n",
       "         [3.6908882e-03],\n",
       "         [3.2756634e-03],\n",
       "         [1.3840832e-04],\n",
       "         [0.0000000e+00],\n",
       "         [0.0000000e+00],\n",
       "         [0.0000000e+00]],\n",
       "\n",
       "        [[0.0000000e+00],\n",
       "         [0.0000000e+00],\n",
       "         [0.0000000e+00],\n",
       "         [0.0000000e+00],\n",
       "         [3.5524799e-03],\n",
       "         [3.3217994e-03],\n",
       "         [3.4602077e-03],\n",
       "         [3.5832373e-03],\n",
       "         [3.3217994e-03],\n",
       "         [3.1680122e-03],\n",
       "         [3.1987696e-03],\n",
       "         [3.3833142e-03],\n",
       "         [3.2910421e-03],\n",
       "         [3.2756634e-03],\n",
       "         [3.2910421e-03],\n",
       "         [3.2910421e-03],\n",
       "         [3.2910421e-03],\n",
       "         [3.4755864e-03],\n",
       "         [3.0757401e-03],\n",
       "         [3.3679355e-03],\n",
       "         [2.9680892e-03],\n",
       "         [3.6755095e-03],\n",
       "         [3.7370243e-03],\n",
       "         [3.3679355e-03],\n",
       "         [7.9969241e-04],\n",
       "         [0.0000000e+00],\n",
       "         [0.0000000e+00],\n",
       "         [0.0000000e+00]],\n",
       "\n",
       "        [[0.0000000e+00],\n",
       "         [0.0000000e+00],\n",
       "         [0.0000000e+00],\n",
       "         [3.0757402e-04],\n",
       "         [3.7216456e-03],\n",
       "         [3.3371781e-03],\n",
       "         [3.5371012e-03],\n",
       "         [3.6908882e-03],\n",
       "         [3.3064208e-03],\n",
       "         [3.1987696e-03],\n",
       "         [3.2602844e-03],\n",
       "         [3.4602077e-03],\n",
       "         [3.3371781e-03],\n",
       "         [3.2756634e-03],\n",
       "         [3.2910421e-03],\n",
       "         [3.3064208e-03],\n",
       "         [3.2602844e-03],\n",
       "         [3.4140716e-03],\n",
       "         [3.2295270e-03],\n",
       "         [3.2449057e-03],\n",
       "         [3.0757401e-03],\n",
       "         [3.6293734e-03],\n",
       "         [3.7677817e-03],\n",
       "         [3.4140716e-03],\n",
       "         [1.2610535e-03],\n",
       "         [0.0000000e+00],\n",
       "         [0.0000000e+00],\n",
       "         [0.0000000e+00]],\n",
       "\n",
       "        [[0.0000000e+00],\n",
       "         [0.0000000e+00],\n",
       "         [0.0000000e+00],\n",
       "         [7.9969241e-04],\n",
       "         [3.2602844e-03],\n",
       "         [3.3986929e-03],\n",
       "         [3.5832373e-03],\n",
       "         [3.3986929e-03],\n",
       "         [3.3064208e-03],\n",
       "         [3.1064975e-03],\n",
       "         [3.2910421e-03],\n",
       "         [3.5063438e-03],\n",
       "         [3.3525568e-03],\n",
       "         [3.2910421e-03],\n",
       "         [3.3064208e-03],\n",
       "         [3.3064208e-03],\n",
       "         [3.2910421e-03],\n",
       "         [3.3679355e-03],\n",
       "         [3.3833142e-03],\n",
       "         [3.0757401e-03],\n",
       "         [3.2756634e-03],\n",
       "         [3.7831604e-03],\n",
       "         [3.7524030e-03],\n",
       "         [3.7524030e-03],\n",
       "         [1.5532487e-03],\n",
       "         [0.0000000e+00],\n",
       "         [0.0000000e+00],\n",
       "         [0.0000000e+00]],\n",
       "\n",
       "        [[0.0000000e+00],\n",
       "         [0.0000000e+00],\n",
       "         [0.0000000e+00],\n",
       "         [1.1841600e-03],\n",
       "         [3.6601308e-03],\n",
       "         [3.4448290e-03],\n",
       "         [3.7062669e-03],\n",
       "         [3.2602844e-03],\n",
       "         [3.3371781e-03],\n",
       "         [3.0296040e-03],\n",
       "         [3.3833142e-03],\n",
       "         [3.5217225e-03],\n",
       "         [3.3679355e-03],\n",
       "         [3.3525568e-03],\n",
       "         [3.3371781e-03],\n",
       "         [3.3679355e-03],\n",
       "         [3.3064208e-03],\n",
       "         [3.3525568e-03],\n",
       "         [3.3986929e-03],\n",
       "         [3.0757401e-03],\n",
       "         [3.1833909e-03],\n",
       "         [3.8446751e-03],\n",
       "         [3.7985391e-03],\n",
       "         [3.6755095e-03],\n",
       "         [2.0299887e-03],\n",
       "         [0.0000000e+00],\n",
       "         [0.0000000e+00],\n",
       "         [0.0000000e+00]],\n",
       "\n",
       "        [[0.0000000e+00],\n",
       "         [0.0000000e+00],\n",
       "         [0.0000000e+00],\n",
       "         [1.2610535e-03],\n",
       "         [3.6139947e-03],\n",
       "         [3.4755864e-03],\n",
       "         [3.5986160e-03],\n",
       "         [3.0603614e-03],\n",
       "         [3.3371781e-03],\n",
       "         [3.0296040e-03],\n",
       "         [3.4755864e-03],\n",
       "         [3.5371012e-03],\n",
       "         [3.4448290e-03],\n",
       "         [3.3679355e-03],\n",
       "         [3.3371781e-03],\n",
       "         [3.3833142e-03],\n",
       "         [3.3217994e-03],\n",
       "         [3.3217994e-03],\n",
       "         [3.4755864e-03],\n",
       "         [3.2141483e-03],\n",
       "         [3.0603614e-03],\n",
       "         [3.7985391e-03],\n",
       "         [3.8292964e-03],\n",
       "         [3.5986160e-03],\n",
       "         [2.2452904e-03],\n",
       "         [0.0000000e+00],\n",
       "         [0.0000000e+00],\n",
       "         [0.0000000e+00]],\n",
       "\n",
       "        [[0.0000000e+00],\n",
       "         [0.0000000e+00],\n",
       "         [0.0000000e+00],\n",
       "         [1.6301422e-03],\n",
       "         [3.5371012e-03],\n",
       "         [3.5832373e-03],\n",
       "         [3.1680122e-03],\n",
       "         [2.7066513e-03],\n",
       "         [3.3064208e-03],\n",
       "         [3.0603614e-03],\n",
       "         [3.5986160e-03],\n",
       "         [3.5371012e-03],\n",
       "         [3.3833142e-03],\n",
       "         [3.3371781e-03],\n",
       "         [3.3217994e-03],\n",
       "         [3.3833142e-03],\n",
       "         [3.3525568e-03],\n",
       "         [3.2910421e-03],\n",
       "         [3.4448290e-03],\n",
       "         [3.3525568e-03],\n",
       "         [3.0142253e-03],\n",
       "         [3.2449057e-03],\n",
       "         [3.8139177e-03],\n",
       "         [3.5678586e-03],\n",
       "         [2.5528644e-03],\n",
       "         [0.0000000e+00],\n",
       "         [0.0000000e+00],\n",
       "         [0.0000000e+00]],\n",
       "\n",
       "        [[0.0000000e+00],\n",
       "         [0.0000000e+00],\n",
       "         [0.0000000e+00],\n",
       "         [1.9377163e-03],\n",
       "         [3.2910421e-03],\n",
       "         [3.6447521e-03],\n",
       "         [3.1372549e-03],\n",
       "         [2.9065744e-03],\n",
       "         [3.1526336e-03],\n",
       "         [3.1833909e-03],\n",
       "         [3.6293734e-03],\n",
       "         [3.5217225e-03],\n",
       "         [3.3525568e-03],\n",
       "         [3.3525568e-03],\n",
       "         [3.3679355e-03],\n",
       "         [3.4602077e-03],\n",
       "         [3.4448290e-03],\n",
       "         [3.3679355e-03],\n",
       "         [3.3833142e-03],\n",
       "         [3.3679355e-03],\n",
       "         [3.0603614e-03],\n",
       "         [3.0757401e-03],\n",
       "         [3.7985391e-03],\n",
       "         [3.4602077e-03],\n",
       "         [2.6758939e-03],\n",
       "         [0.0000000e+00],\n",
       "         [0.0000000e+00],\n",
       "         [0.0000000e+00]],\n",
       "\n",
       "        [[0.0000000e+00],\n",
       "         [0.0000000e+00],\n",
       "         [0.0000000e+00],\n",
       "         [2.2299117e-03],\n",
       "         [3.2910421e-03],\n",
       "         [3.7370243e-03],\n",
       "         [3.1218762e-03],\n",
       "         [3.0449827e-03],\n",
       "         [3.0757401e-03],\n",
       "         [3.3064208e-03],\n",
       "         [3.5217225e-03],\n",
       "         [3.4909651e-03],\n",
       "         [3.3679355e-03],\n",
       "         [3.3371781e-03],\n",
       "         [3.3064208e-03],\n",
       "         [3.3525568e-03],\n",
       "         [3.3679355e-03],\n",
       "         [3.3525568e-03],\n",
       "         [3.3217994e-03],\n",
       "         [3.3064208e-03],\n",
       "         [3.1526336e-03],\n",
       "         [3.4140716e-03],\n",
       "         [3.7524030e-03],\n",
       "         [3.4755864e-03],\n",
       "         [2.7527874e-03],\n",
       "         [0.0000000e+00],\n",
       "         [0.0000000e+00],\n",
       "         [0.0000000e+00]],\n",
       "\n",
       "        [[0.0000000e+00],\n",
       "         [0.0000000e+00],\n",
       "         [0.0000000e+00],\n",
       "         [2.6297579e-03],\n",
       "         [3.2602844e-03],\n",
       "         [3.8446751e-03],\n",
       "         [1.8608228e-03],\n",
       "         [2.9834679e-03],\n",
       "         [3.2756634e-03],\n",
       "         [3.4755864e-03],\n",
       "         [3.5832373e-03],\n",
       "         [3.6293734e-03],\n",
       "         [3.5832373e-03],\n",
       "         [3.5524799e-03],\n",
       "         [3.5063438e-03],\n",
       "         [3.4909651e-03],\n",
       "         [3.5063438e-03],\n",
       "         [3.5986160e-03],\n",
       "         [3.6293734e-03],\n",
       "         [3.5986160e-03],\n",
       "         [3.2910421e-03],\n",
       "         [2.8143022e-03],\n",
       "         [3.8600538e-03],\n",
       "         [3.5217225e-03],\n",
       "         [2.7835448e-03],\n",
       "         [0.0000000e+00],\n",
       "         [0.0000000e+00],\n",
       "         [0.0000000e+00]],\n",
       "\n",
       "        [[0.0000000e+00],\n",
       "         [0.0000000e+00],\n",
       "         [0.0000000e+00],\n",
       "         [2.1222609e-03],\n",
       "         [3.3833142e-03],\n",
       "         [3.6601308e-03],\n",
       "         [7.6893506e-05],\n",
       "         [2.6297579e-03],\n",
       "         [3.1680122e-03],\n",
       "         [2.6758939e-03],\n",
       "         [2.7835448e-03],\n",
       "         [2.8604383e-03],\n",
       "         [2.8604383e-03],\n",
       "         [2.7066513e-03],\n",
       "         [2.6605153e-03],\n",
       "         [2.6451366e-03],\n",
       "         [2.9065744e-03],\n",
       "         [2.7066513e-03],\n",
       "         [2.7835448e-03],\n",
       "         [2.8758170e-03],\n",
       "         [2.5067283e-03],\n",
       "         [6.7666284e-04],\n",
       "         [3.7524030e-03],\n",
       "         [3.5678586e-03],\n",
       "         [1.6301422e-03],\n",
       "         [0.0000000e+00],\n",
       "         [0.0000000e+00],\n",
       "         [0.0000000e+00]],\n",
       "\n",
       "        [[0.0000000e+00],\n",
       "         [0.0000000e+00],\n",
       "         [0.0000000e+00],\n",
       "         [1.4455979e-03],\n",
       "         [3.6447521e-03],\n",
       "         [3.7831604e-03],\n",
       "         [0.0000000e+00],\n",
       "         [0.0000000e+00],\n",
       "         [0.0000000e+00],\n",
       "         [0.0000000e+00],\n",
       "         [0.0000000e+00],\n",
       "         [0.0000000e+00],\n",
       "         [0.0000000e+00],\n",
       "         [0.0000000e+00],\n",
       "         [0.0000000e+00],\n",
       "         [0.0000000e+00],\n",
       "         [0.0000000e+00],\n",
       "         [0.0000000e+00],\n",
       "         [0.0000000e+00],\n",
       "         [0.0000000e+00],\n",
       "         [0.0000000e+00],\n",
       "         [7.2279893e-04],\n",
       "         [3.9215689e-03],\n",
       "         [3.7370243e-03],\n",
       "         [1.5686274e-03],\n",
       "         [0.0000000e+00],\n",
       "         [0.0000000e+00],\n",
       "         [0.0000000e+00]],\n",
       "\n",
       "        [[0.0000000e+00],\n",
       "         [0.0000000e+00],\n",
       "         [0.0000000e+00],\n",
       "         [3.2295272e-04],\n",
       "         [1.7070358e-03],\n",
       "         [1.7685506e-03],\n",
       "         [0.0000000e+00],\n",
       "         [0.0000000e+00],\n",
       "         [0.0000000e+00],\n",
       "         [0.0000000e+00],\n",
       "         [0.0000000e+00],\n",
       "         [0.0000000e+00],\n",
       "         [0.0000000e+00],\n",
       "         [0.0000000e+00],\n",
       "         [0.0000000e+00],\n",
       "         [0.0000000e+00],\n",
       "         [0.0000000e+00],\n",
       "         [0.0000000e+00],\n",
       "         [0.0000000e+00],\n",
       "         [0.0000000e+00],\n",
       "         [0.0000000e+00],\n",
       "         [0.0000000e+00],\n",
       "         [1.5378700e-03],\n",
       "         [1.1841600e-03],\n",
       "         [3.0757405e-05],\n",
       "         [0.0000000e+00],\n",
       "         [0.0000000e+00],\n",
       "         [0.0000000e+00]]]], dtype=float32)"
      ]
     },
     "execution_count": 53,
     "metadata": {},
     "output_type": "execute_result"
    }
   ],
   "source": [
    "interm_tensor"
   ]
  },
  {
   "cell_type": "code",
   "execution_count": 54,
   "metadata": {},
   "outputs": [],
   "source": [
    "activations = activation_model.predict(interm_tensor)"
   ]
  },
  {
   "cell_type": "code",
   "execution_count": 55,
   "metadata": {},
   "outputs": [
    {
     "name": "stdout",
     "output_type": "stream",
     "text": [
      "(1, 26, 26, 32)\n"
     ]
    }
   ],
   "source": [
    "first_layer_activation = activations[0]\n",
    "print(first_layer_activation.shape)"
   ]
  },
  {
   "cell_type": "code",
   "execution_count": 56,
   "metadata": {},
   "outputs": [
    {
     "data": {
      "text/plain": [
       "<matplotlib.image.AxesImage at 0x1828587b38>"
      ]
     },
     "execution_count": 56,
     "metadata": {},
     "output_type": "execute_result"
    },
    {
     "data": {
      "image/png": "[encoded data removed]",
      "text/plain": [
       "<matplotlib.figure.Figure at 0x182be56160>"
      ]
     },
     "metadata": {},
     "output_type": "display_data"
    }
   ],
   "source": [
    "import matplotlib.pyplot as plt\n",
    "plt.matshow(first_layer_activation[0, :, :, 1], cmap='viridis')"
   ]
  },
  {
   "cell_type": "code",
   "execution_count": 57,
   "metadata": {},
   "outputs": [
    {
     "data": {
      "text/plain": [
       "<matplotlib.image.AxesImage at 0x18286df208>"
      ]
     },
     "execution_count": 57,
     "metadata": {},
     "output_type": "execute_result"
    },
    {
     "data": {
      "image/png": "[encoded data removed]",
      "text/plain": [
       "<matplotlib.figure.Figure at 0x1828598da0>"
      ]
     },
     "metadata": {},
     "output_type": "display_data"
    }
   ],
   "source": [
    "plt.matshow(first_layer_activation[0, :, :, 2], cmap='viridis')"
   ]
  }
 ],
 "metadata": {
  "kernelspec": {
   "display_name": "Python 3",
   "language": "python",
   "name": "python3"
  },
  "language_info": {
   "codemirror_mode": {
    "name": "ipython",
    "version": 3
   },
   "file_extension": ".py",
   "mimetype": "text/x-python",
   "name": "python",
   "nbconvert_exporter": "python",
   "pygments_lexer": "ipython3",
   "version": "3.6.4"
  }
 },
 "nbformat": 4,
 "nbformat_minor": 2
}
